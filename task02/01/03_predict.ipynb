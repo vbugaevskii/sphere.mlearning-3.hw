{
 "cells": [
  {
   "cell_type": "code",
   "execution_count": 1,
   "metadata": {
    "collapsed": false
   },
   "outputs": [
    {
     "name": "stderr",
     "output_type": "stream",
     "text": [
      "/home/vladimir/anaconda2/lib/python2.7/site-packages/sklearn/cross_validation.py:44: DeprecationWarning: This module was deprecated in version 0.18 in favor of the model_selection module into which all the refactored classes and functions are moved. Also note that the interface of the new CV iterators are different from that of this module. This module will be removed in 0.20.\n",
      "  \"This module will be removed in 0.20.\", DeprecationWarning)\n"
     ]
    }
   ],
   "source": [
    "import numpy as np\n",
    "import pandas as pd\n",
    "\n",
    "from sklearn.ensemble import GradientBoostingRegressor as GBR\n",
    "from sklearn.metrics import mean_squared_error\n",
    "\n",
    "import xgboost as xgb"
   ]
  },
  {
   "cell_type": "code",
   "execution_count": 2,
   "metadata": {
    "collapsed": true
   },
   "outputs": [],
   "source": [
    "df_train = pd.read_csv(\"X_train_processed.csv\", sep=',')"
   ]
  },
  {
   "cell_type": "code",
   "execution_count": 17,
   "metadata": {
    "collapsed": false
   },
   "outputs": [
    {
     "data": {
      "text/plain": [
       "(270000, 12)"
      ]
     },
     "execution_count": 17,
     "metadata": {},
     "output_type": "execute_result"
    }
   ],
   "source": [
    "df_train.shape"
   ]
  },
  {
   "cell_type": "code",
   "execution_count": 3,
   "metadata": {
    "collapsed": true
   },
   "outputs": [],
   "source": [
    "class ModelsEstimator:\n",
    "    n_models = 20\n",
    "    \n",
    "    def __init__(self):\n",
    "        self.models = [xgb.XGBRegressor(max_depth=6, n_estimators=100)\n",
    "                       for i in range(self.n_models)]\n",
    "        \n",
    "    def fit(self, x, y):\n",
    "        sample_size = len(x)\n",
    "        sub_sample_size = sample_size # int(2.0 / 3.0 * sample_size)\n",
    "        \n",
    "        for model_i, model in enumerate(self.models):\n",
    "            index = np.random.choice(sample_size, size=sub_sample_size, replace=True)\n",
    "            X_train, Y_train = x[index], y[index]\n",
    "            model.fit(X_train, Y_train)\n",
    "            # print '\\r', model_i,\n",
    "        \n",
    "        # print \"\\rFitted!\"\n",
    "        \n",
    "    def predict_per_model(self, x):\n",
    "        return [model.predict(x) for model in self.models]\n",
    "    \n",
    "    def predict(self, x):\n",
    "        return np.mean(self.predict_per_model(x), axis=0)"
   ]
  },
  {
   "cell_type": "code",
   "execution_count": 4,
   "metadata": {
    "collapsed": true
   },
   "outputs": [],
   "source": [
    "estimator = ModelsEstimator()"
   ]
  },
  {
   "cell_type": "code",
   "execution_count": 5,
   "metadata": {
    "collapsed": true
   },
   "outputs": [],
   "source": [
    "estimator.fit(df_train.values[:, 1:-1], df_train.values[:, -1])"
   ]
  },
  {
   "cell_type": "raw",
   "metadata": {
    "collapsed": false
   },
   "source": [
    "X_test = pd.read_csv(\"../private/X_private_2.csv\", sep=',')\n",
    "\n",
    "Y_pred = estimator.predict(X_test.values[:, 1:-1])\n",
    "Y_true = X_test.values[:, -1]\n",
    "\n",
    "\"score = {:>20,.5f}\".format(np.sqrt(mean_squared_error(Y_true, Y_pred)))"
   ]
  },
  {
   "cell_type": "code",
   "execution_count": 6,
   "metadata": {
    "collapsed": false
   },
   "outputs": [
    {
     "data": {
      "text/html": [
       "<div>\n",
       "<table border=\"1\" class=\"dataframe\">\n",
       "  <thead>\n",
       "    <tr style=\"text-align: right;\">\n",
       "      <th></th>\n",
       "      <th>id</th>\n",
       "      <th>x_0</th>\n",
       "      <th>x_1</th>\n",
       "      <th>x_2</th>\n",
       "      <th>x_3</th>\n",
       "      <th>x_4</th>\n",
       "      <th>x_5</th>\n",
       "      <th>x_6</th>\n",
       "      <th>x_7</th>\n",
       "      <th>x_8</th>\n",
       "      <th>x_9</th>\n",
       "    </tr>\n",
       "  </thead>\n",
       "  <tbody>\n",
       "    <tr>\n",
       "      <th>0</th>\n",
       "      <td>0</td>\n",
       "      <td>0.220902</td>\n",
       "      <td>1.704661</td>\n",
       "      <td>3.145539</td>\n",
       "      <td>2.069166</td>\n",
       "      <td>3.248110</td>\n",
       "      <td>1.655190</td>\n",
       "      <td>0.336612</td>\n",
       "      <td>1.794711</td>\n",
       "      <td>0.719335</td>\n",
       "      <td>2.405603</td>\n",
       "    </tr>\n",
       "    <tr>\n",
       "      <th>1</th>\n",
       "      <td>1</td>\n",
       "      <td>4.970893</td>\n",
       "      <td>2.728854</td>\n",
       "      <td>1.974131</td>\n",
       "      <td>1.230789</td>\n",
       "      <td>1.915259</td>\n",
       "      <td>3.573415</td>\n",
       "      <td>2.897298</td>\n",
       "      <td>4.279815</td>\n",
       "      <td>0.255498</td>\n",
       "      <td>0.682067</td>\n",
       "    </tr>\n",
       "    <tr>\n",
       "      <th>2</th>\n",
       "      <td>2</td>\n",
       "      <td>4.261701</td>\n",
       "      <td>0.055729</td>\n",
       "      <td>1.623474</td>\n",
       "      <td>2.224815</td>\n",
       "      <td>4.037181</td>\n",
       "      <td>2.625306</td>\n",
       "      <td>2.679721</td>\n",
       "      <td>4.849078</td>\n",
       "      <td>3.586963</td>\n",
       "      <td>3.269388</td>\n",
       "    </tr>\n",
       "    <tr>\n",
       "      <th>3</th>\n",
       "      <td>3</td>\n",
       "      <td>4.109848</td>\n",
       "      <td>2.355999</td>\n",
       "      <td>2.030721</td>\n",
       "      <td>0.741282</td>\n",
       "      <td>3.873136</td>\n",
       "      <td>0.900767</td>\n",
       "      <td>0.493190</td>\n",
       "      <td>2.479181</td>\n",
       "      <td>0.666730</td>\n",
       "      <td>2.686895</td>\n",
       "    </tr>\n",
       "    <tr>\n",
       "      <th>4</th>\n",
       "      <td>4</td>\n",
       "      <td>4.268486</td>\n",
       "      <td>4.547079</td>\n",
       "      <td>3.115409</td>\n",
       "      <td>4.988304</td>\n",
       "      <td>0.899760</td>\n",
       "      <td>4.486683</td>\n",
       "      <td>0.915195</td>\n",
       "      <td>1.881219</td>\n",
       "      <td>4.733739</td>\n",
       "      <td>4.261041</td>\n",
       "    </tr>\n",
       "  </tbody>\n",
       "</table>\n",
       "</div>"
      ],
      "text/plain": [
       "   id       x_0       x_1       x_2       x_3       x_4       x_5       x_6  \\\n",
       "0   0  0.220902  1.704661  3.145539  2.069166  3.248110  1.655190  0.336612   \n",
       "1   1  4.970893  2.728854  1.974131  1.230789  1.915259  3.573415  2.897298   \n",
       "2   2  4.261701  0.055729  1.623474  2.224815  4.037181  2.625306  2.679721   \n",
       "3   3  4.109848  2.355999  2.030721  0.741282  3.873136  0.900767  0.493190   \n",
       "4   4  4.268486  4.547079  3.115409  4.988304  0.899760  4.486683  0.915195   \n",
       "\n",
       "        x_7       x_8       x_9  \n",
       "0  1.794711  0.719335  2.405603  \n",
       "1  4.279815  0.255498  0.682067  \n",
       "2  4.849078  3.586963  3.269388  \n",
       "3  2.479181  0.666730  2.686895  \n",
       "4  1.881219  4.733739  4.261041  "
      ]
     },
     "execution_count": 6,
     "metadata": {},
     "output_type": "execute_result"
    }
   ],
   "source": [
    "X_test = pd.read_csv(\"../X_private.csv\", sep=',')\n",
    "X_test.head()"
   ]
  },
  {
   "cell_type": "code",
   "execution_count": 7,
   "metadata": {
    "collapsed": true
   },
   "outputs": [],
   "source": [
    "Y_pred = estimator.predict(X_test.values[:, 1:])"
   ]
  },
  {
   "cell_type": "code",
   "execution_count": 14,
   "metadata": {
    "collapsed": false
   },
   "outputs": [],
   "source": [
    "submission = [(i, y) for i, y in zip(X_test[\"id\"], Y_pred)]\n",
    "submission = pd.DataFrame(submission, columns=[\"id\", \"y\"])"
   ]
  },
  {
   "cell_type": "code",
   "execution_count": 9,
   "metadata": {
    "collapsed": false
   },
   "outputs": [
    {
     "data": {
      "text/html": [
       "<div>\n",
       "<table border=\"1\" class=\"dataframe\">\n",
       "  <thead>\n",
       "    <tr style=\"text-align: right;\">\n",
       "      <th></th>\n",
       "      <th>id</th>\n",
       "      <th>y</th>\n",
       "    </tr>\n",
       "  </thead>\n",
       "  <tbody>\n",
       "    <tr>\n",
       "      <th>0</th>\n",
       "      <td>0</td>\n",
       "      <td>-9.810095e+07</td>\n",
       "    </tr>\n",
       "    <tr>\n",
       "      <th>1</th>\n",
       "      <td>1</td>\n",
       "      <td>-4.928236e+06</td>\n",
       "    </tr>\n",
       "    <tr>\n",
       "      <th>2</th>\n",
       "      <td>2</td>\n",
       "      <td>-1.550364e+07</td>\n",
       "    </tr>\n",
       "    <tr>\n",
       "      <th>3</th>\n",
       "      <td>3</td>\n",
       "      <td>5.510236e+07</td>\n",
       "    </tr>\n",
       "    <tr>\n",
       "      <th>4</th>\n",
       "      <td>4</td>\n",
       "      <td>1.007039e+10</td>\n",
       "    </tr>\n",
       "  </tbody>\n",
       "</table>\n",
       "</div>"
      ],
      "text/plain": [
       "   id             y\n",
       "0   0 -9.810095e+07\n",
       "1   1 -4.928236e+06\n",
       "2   2 -1.550364e+07\n",
       "3   3  5.510236e+07\n",
       "4   4  1.007039e+10"
      ]
     },
     "execution_count": 9,
     "metadata": {},
     "output_type": "execute_result"
    }
   ],
   "source": [
    "submission.head()"
   ]
  },
  {
   "cell_type": "code",
   "execution_count": 15,
   "metadata": {
    "collapsed": true
   },
   "outputs": [],
   "source": [
    "submission.to_csv(\"../submission_final.csv\", sep=',', index=False)"
   ]
  },
  {
   "cell_type": "code",
   "execution_count": null,
   "metadata": {
    "collapsed": true
   },
   "outputs": [],
   "source": []
  }
 ],
 "metadata": {
  "kernelspec": {
   "display_name": "Python 2",
   "language": "python",
   "name": "python2"
  },
  "language_info": {
   "codemirror_mode": {
    "name": "ipython",
    "version": 2
   },
   "file_extension": ".py",
   "mimetype": "text/x-python",
   "name": "python",
   "nbconvert_exporter": "python",
   "pygments_lexer": "ipython2",
   "version": "2.7.12"
  }
 },
 "nbformat": 4,
 "nbformat_minor": 0
}
