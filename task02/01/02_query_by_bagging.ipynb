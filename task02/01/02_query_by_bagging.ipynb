{
 "cells": [
  {
   "cell_type": "code",
   "execution_count": 1,
   "metadata": {
    "collapsed": false
   },
   "outputs": [
    {
     "name": "stderr",
     "output_type": "stream",
     "text": [
      "/home/vladimir/anaconda2/lib/python2.7/site-packages/sklearn/cross_validation.py:44: DeprecationWarning: This module was deprecated in version 0.18 in favor of the model_selection module into which all the refactored classes and functions are moved. Also note that the interface of the new CV iterators are different from that of this module. This module will be removed in 0.20.\n",
      "  \"This module will be removed in 0.20.\", DeprecationWarning)\n"
     ]
    }
   ],
   "source": [
    "import numpy as np\n",
    "import pandas as pd\n",
    "\n",
    "from sklearn.ensemble import GradientBoostingRegressor as GBR\n",
    "from sklearn.metrics import mean_squared_error\n",
    "\n",
    "import xgboost as xgb"
   ]
  },
  {
   "cell_type": "code",
   "execution_count": 14,
   "metadata": {
    "collapsed": false
   },
   "outputs": [],
   "source": [
    "import matplotlib.pyplot as plt\n",
    "\n",
    "%matplotlib inline"
   ]
  },
  {
   "cell_type": "code",
   "execution_count": 2,
   "metadata": {
    "collapsed": false
   },
   "outputs": [],
   "source": [
    "!rm -r tmp\n",
    "!mkdir tmp"
   ]
  },
  {
   "cell_type": "code",
   "execution_count": 3,
   "metadata": {
    "collapsed": true
   },
   "outputs": [],
   "source": [
    "DATA_PATH = \"./data/\""
   ]
  },
  {
   "cell_type": "code",
   "execution_count": 4,
   "metadata": {
    "collapsed": false
   },
   "outputs": [
    {
     "name": "stdout",
     "output_type": "stream",
     "text": [
      "(50000, 11)\n",
      "(50000, 2)\n",
      "(50000, 12)\n"
     ]
    },
    {
     "data": {
      "text/html": [
       "<div>\n",
       "<table border=\"1\" class=\"dataframe\">\n",
       "  <thead>\n",
       "    <tr style=\"text-align: right;\">\n",
       "      <th></th>\n",
       "      <th>id</th>\n",
       "      <th>x_0</th>\n",
       "      <th>x_1</th>\n",
       "      <th>x_2</th>\n",
       "      <th>x_3</th>\n",
       "      <th>x_4</th>\n",
       "      <th>x_5</th>\n",
       "      <th>x_6</th>\n",
       "      <th>x_7</th>\n",
       "      <th>x_8</th>\n",
       "      <th>x_9</th>\n",
       "      <th>label</th>\n",
       "    </tr>\n",
       "  </thead>\n",
       "  <tbody>\n",
       "    <tr>\n",
       "      <th>0</th>\n",
       "      <td>75342</td>\n",
       "      <td>2.022044</td>\n",
       "      <td>0.906666</td>\n",
       "      <td>2.075018</td>\n",
       "      <td>2.132989</td>\n",
       "      <td>1.464183</td>\n",
       "      <td>0.622432</td>\n",
       "      <td>1.459915</td>\n",
       "      <td>4.542365</td>\n",
       "      <td>3.394593</td>\n",
       "      <td>3.912974</td>\n",
       "      <td>1.487999e+01</td>\n",
       "    </tr>\n",
       "    <tr>\n",
       "      <th>1</th>\n",
       "      <td>851271</td>\n",
       "      <td>3.300592</td>\n",
       "      <td>0.290642</td>\n",
       "      <td>1.471218</td>\n",
       "      <td>2.739870</td>\n",
       "      <td>1.799117</td>\n",
       "      <td>1.595527</td>\n",
       "      <td>1.446818</td>\n",
       "      <td>4.770005</td>\n",
       "      <td>0.776099</td>\n",
       "      <td>4.586265</td>\n",
       "      <td>3.257242e+00</td>\n",
       "    </tr>\n",
       "    <tr>\n",
       "      <th>2</th>\n",
       "      <td>6609</td>\n",
       "      <td>3.748446</td>\n",
       "      <td>3.372626</td>\n",
       "      <td>1.949541</td>\n",
       "      <td>4.175971</td>\n",
       "      <td>3.286955</td>\n",
       "      <td>1.616277</td>\n",
       "      <td>1.976989</td>\n",
       "      <td>3.238248</td>\n",
       "      <td>0.016275</td>\n",
       "      <td>3.609868</td>\n",
       "      <td>3.806292e+06</td>\n",
       "    </tr>\n",
       "    <tr>\n",
       "      <th>3</th>\n",
       "      <td>109817</td>\n",
       "      <td>4.075816</td>\n",
       "      <td>4.939730</td>\n",
       "      <td>1.029748</td>\n",
       "      <td>0.630413</td>\n",
       "      <td>3.997332</td>\n",
       "      <td>2.105536</td>\n",
       "      <td>0.462775</td>\n",
       "      <td>1.878465</td>\n",
       "      <td>2.007065</td>\n",
       "      <td>3.279626</td>\n",
       "      <td>1.466261e+10</td>\n",
       "    </tr>\n",
       "    <tr>\n",
       "      <th>4</th>\n",
       "      <td>590732</td>\n",
       "      <td>2.039134</td>\n",
       "      <td>0.858773</td>\n",
       "      <td>4.480733</td>\n",
       "      <td>0.764921</td>\n",
       "      <td>4.734674</td>\n",
       "      <td>2.316697</td>\n",
       "      <td>4.776218</td>\n",
       "      <td>1.456180</td>\n",
       "      <td>3.998506</td>\n",
       "      <td>4.890759</td>\n",
       "      <td>1.741605e+01</td>\n",
       "    </tr>\n",
       "  </tbody>\n",
       "</table>\n",
       "</div>"
      ],
      "text/plain": [
       "       id       x_0       x_1       x_2       x_3       x_4       x_5  \\\n",
       "0   75342  2.022044  0.906666  2.075018  2.132989  1.464183  0.622432   \n",
       "1  851271  3.300592  0.290642  1.471218  2.739870  1.799117  1.595527   \n",
       "2    6609  3.748446  3.372626  1.949541  4.175971  3.286955  1.616277   \n",
       "3  109817  4.075816  4.939730  1.029748  0.630413  3.997332  2.105536   \n",
       "4  590732  2.039134  0.858773  4.480733  0.764921  4.734674  2.316697   \n",
       "\n",
       "        x_6       x_7       x_8       x_9         label  \n",
       "0  1.459915  4.542365  3.394593  3.912974  1.487999e+01  \n",
       "1  1.446818  4.770005  0.776099  4.586265  3.257242e+00  \n",
       "2  1.976989  3.238248  0.016275  3.609868  3.806292e+06  \n",
       "3  0.462775  1.878465  2.007065  3.279626  1.466261e+10  \n",
       "4  4.776218  1.456180  3.998506  4.890759  1.741605e+01  "
      ]
     },
     "execution_count": 4,
     "metadata": {},
     "output_type": "execute_result"
    }
   ],
   "source": [
    "df_x = pd.read_csv(DATA_PATH + \"X_train.csv\", sep=',')\n",
    "print df_x.shape\n",
    "\n",
    "df_y = pd.read_csv(DATA_PATH + \"Y_train.csv\", sep=',')\n",
    "print df_y.shape\n",
    "\n",
    "df_train = pd.merge(df_x, df_y, on=\"id\")\n",
    "print df_train.shape\n",
    "df_train.head()"
   ]
  },
  {
   "cell_type": "code",
   "execution_count": 5,
   "metadata": {
    "collapsed": false
   },
   "outputs": [
    {
     "name": "stdout",
     "output_type": "stream",
     "text": [
      "(20000, 11)\n",
      "(20000, 2)\n",
      "(20000, 12)\n"
     ]
    },
    {
     "data": {
      "text/html": [
       "<div>\n",
       "<table border=\"1\" class=\"dataframe\">\n",
       "  <thead>\n",
       "    <tr style=\"text-align: right;\">\n",
       "      <th></th>\n",
       "      <th>id</th>\n",
       "      <th>x_0</th>\n",
       "      <th>x_1</th>\n",
       "      <th>x_2</th>\n",
       "      <th>x_3</th>\n",
       "      <th>x_4</th>\n",
       "      <th>x_5</th>\n",
       "      <th>x_6</th>\n",
       "      <th>x_7</th>\n",
       "      <th>x_8</th>\n",
       "      <th>x_9</th>\n",
       "      <th>label</th>\n",
       "    </tr>\n",
       "  </thead>\n",
       "  <tbody>\n",
       "    <tr>\n",
       "      <th>0</th>\n",
       "      <td>479625</td>\n",
       "      <td>4.080746</td>\n",
       "      <td>1.028079</td>\n",
       "      <td>4.490340</td>\n",
       "      <td>0.818837</td>\n",
       "      <td>2.432335</td>\n",
       "      <td>0.200558</td>\n",
       "      <td>4.261391</td>\n",
       "      <td>1.984097</td>\n",
       "      <td>3.387096</td>\n",
       "      <td>3.817968</td>\n",
       "      <td>3.599424e+02</td>\n",
       "    </tr>\n",
       "    <tr>\n",
       "      <th>1</th>\n",
       "      <td>648190</td>\n",
       "      <td>4.170150</td>\n",
       "      <td>3.443408</td>\n",
       "      <td>3.807941</td>\n",
       "      <td>2.444089</td>\n",
       "      <td>4.718331</td>\n",
       "      <td>0.636463</td>\n",
       "      <td>4.888325</td>\n",
       "      <td>4.717693</td>\n",
       "      <td>1.195345</td>\n",
       "      <td>4.009566</td>\n",
       "      <td>3.799246e+07</td>\n",
       "    </tr>\n",
       "    <tr>\n",
       "      <th>2</th>\n",
       "      <td>999305</td>\n",
       "      <td>4.412594</td>\n",
       "      <td>2.125953</td>\n",
       "      <td>4.822815</td>\n",
       "      <td>2.190384</td>\n",
       "      <td>1.020305</td>\n",
       "      <td>3.582469</td>\n",
       "      <td>1.392373</td>\n",
       "      <td>3.755650</td>\n",
       "      <td>3.623119</td>\n",
       "      <td>3.591587</td>\n",
       "      <td>1.431866e+05</td>\n",
       "    </tr>\n",
       "    <tr>\n",
       "      <th>3</th>\n",
       "      <td>783546</td>\n",
       "      <td>4.430678</td>\n",
       "      <td>4.830816</td>\n",
       "      <td>3.048444</td>\n",
       "      <td>4.558634</td>\n",
       "      <td>1.952592</td>\n",
       "      <td>0.990211</td>\n",
       "      <td>4.942822</td>\n",
       "      <td>2.956317</td>\n",
       "      <td>3.972721</td>\n",
       "      <td>1.690068</td>\n",
       "      <td>1.080057e+11</td>\n",
       "    </tr>\n",
       "    <tr>\n",
       "      <th>4</th>\n",
       "      <td>344358</td>\n",
       "      <td>4.212515</td>\n",
       "      <td>3.733474</td>\n",
       "      <td>3.553959</td>\n",
       "      <td>3.207479</td>\n",
       "      <td>4.495217</td>\n",
       "      <td>3.932913</td>\n",
       "      <td>3.862708</td>\n",
       "      <td>2.907231</td>\n",
       "      <td>3.070680</td>\n",
       "      <td>4.922795</td>\n",
       "      <td>1.756719e+08</td>\n",
       "    </tr>\n",
       "  </tbody>\n",
       "</table>\n",
       "</div>"
      ],
      "text/plain": [
       "       id       x_0       x_1       x_2       x_3       x_4       x_5  \\\n",
       "0  479625  4.080746  1.028079  4.490340  0.818837  2.432335  0.200558   \n",
       "1  648190  4.170150  3.443408  3.807941  2.444089  4.718331  0.636463   \n",
       "2  999305  4.412594  2.125953  4.822815  2.190384  1.020305  3.582469   \n",
       "3  783546  4.430678  4.830816  3.048444  4.558634  1.952592  0.990211   \n",
       "4  344358  4.212515  3.733474  3.553959  3.207479  4.495217  3.932913   \n",
       "\n",
       "        x_6       x_7       x_8       x_9         label  \n",
       "0  4.261391  1.984097  3.387096  3.817968  3.599424e+02  \n",
       "1  4.888325  4.717693  1.195345  4.009566  3.799246e+07  \n",
       "2  1.392373  3.755650  3.623119  3.591587  1.431866e+05  \n",
       "3  4.942822  2.956317  3.972721  1.690068  1.080057e+11  \n",
       "4  3.862708  2.907231  3.070680  4.922795  1.756719e+08  "
      ]
     },
     "execution_count": 5,
     "metadata": {},
     "output_type": "execute_result"
    }
   ],
   "source": [
    "df_x = pd.read_csv(DATA_PATH + \"X_valid.csv\", sep=',')\n",
    "print df_x.shape\n",
    "\n",
    "df_y = pd.read_csv(DATA_PATH + \"Y_valid.csv\", sep=',')\n",
    "print df_y.shape\n",
    "\n",
    "df_valid = pd.merge(df_x, df_y, on=\"id\")\n",
    "print df_valid.shape\n",
    "df_valid.head()"
   ]
  },
  {
   "cell_type": "code",
   "execution_count": 6,
   "metadata": {
    "collapsed": true
   },
   "outputs": [],
   "source": [
    "%reset_selective -f df_x\n",
    "%reset_selective -f df_y"
   ]
  },
  {
   "cell_type": "code",
   "execution_count": 7,
   "metadata": {
    "collapsed": false
   },
   "outputs": [
    {
     "name": "stdout",
     "output_type": "stream",
     "text": [
      "(930000, 11)\n"
     ]
    },
    {
     "data": {
      "text/html": [
       "<div>\n",
       "<table border=\"1\" class=\"dataframe\">\n",
       "  <thead>\n",
       "    <tr style=\"text-align: right;\">\n",
       "      <th></th>\n",
       "      <th>id</th>\n",
       "      <th>x_0</th>\n",
       "      <th>x_1</th>\n",
       "      <th>x_2</th>\n",
       "      <th>x_3</th>\n",
       "      <th>x_4</th>\n",
       "      <th>x_5</th>\n",
       "      <th>x_6</th>\n",
       "      <th>x_7</th>\n",
       "      <th>x_8</th>\n",
       "      <th>x_9</th>\n",
       "    </tr>\n",
       "  </thead>\n",
       "  <tbody>\n",
       "    <tr>\n",
       "      <th>0</th>\n",
       "      <td>497399</td>\n",
       "      <td>4.652482</td>\n",
       "      <td>4.337135</td>\n",
       "      <td>3.692097</td>\n",
       "      <td>3.424279</td>\n",
       "      <td>0.907693</td>\n",
       "      <td>4.879680</td>\n",
       "      <td>4.931662</td>\n",
       "      <td>2.168568</td>\n",
       "      <td>4.728860</td>\n",
       "      <td>1.012369</td>\n",
       "    </tr>\n",
       "    <tr>\n",
       "      <th>1</th>\n",
       "      <td>363754</td>\n",
       "      <td>3.064174</td>\n",
       "      <td>4.216973</td>\n",
       "      <td>4.745317</td>\n",
       "      <td>3.882111</td>\n",
       "      <td>4.926382</td>\n",
       "      <td>2.942963</td>\n",
       "      <td>0.306605</td>\n",
       "      <td>0.781885</td>\n",
       "      <td>1.058586</td>\n",
       "      <td>1.602420</td>\n",
       "    </tr>\n",
       "    <tr>\n",
       "      <th>2</th>\n",
       "      <td>622065</td>\n",
       "      <td>0.421566</td>\n",
       "      <td>4.612503</td>\n",
       "      <td>3.564920</td>\n",
       "      <td>0.965847</td>\n",
       "      <td>3.832870</td>\n",
       "      <td>0.311796</td>\n",
       "      <td>4.205437</td>\n",
       "      <td>1.428088</td>\n",
       "      <td>4.230039</td>\n",
       "      <td>1.729145</td>\n",
       "    </tr>\n",
       "    <tr>\n",
       "      <th>3</th>\n",
       "      <td>480752</td>\n",
       "      <td>0.621812</td>\n",
       "      <td>3.673744</td>\n",
       "      <td>0.129993</td>\n",
       "      <td>1.664958</td>\n",
       "      <td>4.606949</td>\n",
       "      <td>3.927692</td>\n",
       "      <td>2.321006</td>\n",
       "      <td>1.601431</td>\n",
       "      <td>0.978995</td>\n",
       "      <td>4.691223</td>\n",
       "    </tr>\n",
       "    <tr>\n",
       "      <th>4</th>\n",
       "      <td>326911</td>\n",
       "      <td>0.558334</td>\n",
       "      <td>1.693957</td>\n",
       "      <td>1.968919</td>\n",
       "      <td>3.832338</td>\n",
       "      <td>1.828591</td>\n",
       "      <td>4.321878</td>\n",
       "      <td>0.170333</td>\n",
       "      <td>1.426332</td>\n",
       "      <td>1.837114</td>\n",
       "      <td>1.746383</td>\n",
       "    </tr>\n",
       "  </tbody>\n",
       "</table>\n",
       "</div>"
      ],
      "text/plain": [
       "       id       x_0       x_1       x_2       x_3       x_4       x_5  \\\n",
       "0  497399  4.652482  4.337135  3.692097  3.424279  0.907693  4.879680   \n",
       "1  363754  3.064174  4.216973  4.745317  3.882111  4.926382  2.942963   \n",
       "2  622065  0.421566  4.612503  3.564920  0.965847  3.832870  0.311796   \n",
       "3  480752  0.621812  3.673744  0.129993  1.664958  4.606949  3.927692   \n",
       "4  326911  0.558334  1.693957  1.968919  3.832338  1.828591  4.321878   \n",
       "\n",
       "        x_6       x_7       x_8       x_9  \n",
       "0  4.931662  2.168568  4.728860  1.012369  \n",
       "1  0.306605  0.781885  1.058586  1.602420  \n",
       "2  4.205437  1.428088  4.230039  1.729145  \n",
       "3  2.321006  1.601431  0.978995  4.691223  \n",
       "4  0.170333  1.426332  1.837114  1.746383  "
      ]
     },
     "execution_count": 7,
     "metadata": {},
     "output_type": "execute_result"
    }
   ],
   "source": [
    "df_test = pd.read_csv(DATA_PATH + \"X_test.csv\", sep=',')\n",
    "print df_test.shape\n",
    "df_test.head()"
   ]
  },
  {
   "cell_type": "code",
   "execution_count": 8,
   "metadata": {
    "collapsed": false
   },
   "outputs": [],
   "source": [
    "class ModelsEstimator:\n",
    "    n_models = 20\n",
    "    \n",
    "    def __init__(self):\n",
    "        self.models = [xgb.XGBRegressor(max_depth=6, n_estimators=100)\n",
    "                       for i in range(self.n_models)]\n",
    "        \n",
    "    def fit(self, x, y):\n",
    "        sample_size = len(x)\n",
    "        sub_sample_size = sample_size # int(2.0 / 3.0 * sample_size)\n",
    "        \n",
    "        for model_i, model in enumerate(self.models):\n",
    "            index = np.random.choice(sample_size, size=sub_sample_size, replace=True)\n",
    "            X_train, Y_train = x[index], y[index]\n",
    "            model.fit(X_train, Y_train)\n",
    "            # print '\\r', model_i,\n",
    "        \n",
    "        # print \"\\rFitted!\"\n",
    "        \n",
    "    def predict_per_model(self, x):\n",
    "        return [model.predict(x) for model in self.models]\n",
    "    \n",
    "    def predict(self, x):\n",
    "        return np.mean(self.predict_per_model(x), axis=0)"
   ]
  },
  {
   "cell_type": "code",
   "execution_count": 9,
   "metadata": {
    "collapsed": false
   },
   "outputs": [],
   "source": [
    "estimator = ModelsEstimator()"
   ]
  },
  {
   "cell_type": "code",
   "execution_count": 10,
   "metadata": {
    "collapsed": true
   },
   "outputs": [],
   "source": [
    "def score_valid():\n",
    "    X_valid, Y_valid = df_valid.values[:, 1:-1], df_valid.values[:, -1]\n",
    "    Y_pred = estimator.predict(X_valid)\n",
    "    rmse = np.sqrt(mean_squared_error(Y_valid, Y_pred))\n",
    "    return rmse"
   ]
  },
  {
   "cell_type": "code",
   "execution_count": 11,
   "metadata": {
    "collapsed": true
   },
   "outputs": [],
   "source": [
    "import operator"
   ]
  },
  {
   "cell_type": "code",
   "execution_count": null,
   "metadata": {
    "collapsed": true
   },
   "outputs": [],
   "source": [
    "scores = []"
   ]
  },
  {
   "cell_type": "code",
   "execution_count": null,
   "metadata": {
    "collapsed": false,
    "scrolled": true
   },
   "outputs": [],
   "source": [
    "for iter_i in range(len(scores), 250):\n",
    "    estimator.fit(df_train.values[:, 1:-1], df_train.values[:, -1])\n",
    "    scores.append(score_valid())\n",
    "    \n",
    "    index = np.random.choice(len(df_test), size=10000, replace=False)\n",
    "    X_test = df_test.values[index]\n",
    "    id_chosen = np.var(estimator.predict_per_model(X_test[:, 1:]), axis=0)\n",
    "    id_chosen = sorted(zip(X_test[:, 0], id_chosen), key=operator.itemgetter(1), reverse=True)[:1000]\n",
    "    id_chosen = map(operator.itemgetter(0), id_chosen)\n",
    "    \n",
    "    X_chosen = df_test.loc[df_test['id'].isin(id_chosen)]\n",
    "    X_chosen.to_csv(\"./tmp/x_chosen.csv\", sep=',', index=False)\n",
    "    call(\"python OracleManager_4.py -n 100 -fin ./tmp/x_chosen.csv -fout ./tmp/y_chosen.csv\".split())\n",
    "    Y_chosen = pd.read_csv(\"./tmp/y_chosen.csv\", sep=',')\n",
    "    \n",
    "    df_train = df_train.append(pd.merge(X_chosen, Y_chosen, on=\"id\"), ignore_index=True)\n",
    "    df_test.drop(X_chosen.index, inplace=True)\n",
    "    \n",
    "    print u\"iter = {:0>3}; score = {:>20,.5f}\".format(iter_i + 1, scores[-1])\n",
    "    "
   ]
  },
  {
   "cell_type": "code",
   "execution_count": 18,
   "metadata": {
    "collapsed": false
   },
   "outputs": [
    {
     "data": {
      "text/plain": [
       "[<matplotlib.lines.Line2D at 0x7fe98a10e490>]"
      ]
     },
     "execution_count": 18,
     "metadata": {},
     "output_type": "execute_result"
    },
    {
     "data": {
      "image/png": "[encoded data removed]",
      "text/plain": [
       "<matplotlib.figure.Figure at 0x7fe98a117650>"
      ]
     },
     "metadata": {},
     "output_type": "display_data"
    }
   ],
   "source": [
    "plt.plot(scores)"
   ]
  },
  {
   "cell_type": "code",
   "execution_count": 25,
   "metadata": {
    "collapsed": false
   },
   "outputs": [
    {
     "data": {
      "text/plain": [
       "3165779288.4176288"
      ]
     },
     "execution_count": 25,
     "metadata": {},
     "output_type": "execute_result"
    }
   ],
   "source": [
    "scores[-1]"
   ]
  },
  {
   "cell_type": "code",
   "execution_count": 19,
   "metadata": {
    "collapsed": true
   },
   "outputs": [],
   "source": [
    "df_train.to_csv(\"X_train_processed.csv\", sep=',', index=False)"
   ]
  },
  {
   "cell_type": "code",
   "execution_count": null,
   "metadata": {
    "collapsed": true
   },
   "outputs": [],
   "source": []
  }
 ],
 "metadata": {
  "kernelspec": {
   "display_name": "Python 2",
   "language": "python",
   "name": "python2"
  },
  "language_info": {
   "codemirror_mode": {
    "name": "ipython",
    "version": 2
   },
   "file_extension": ".py",
   "mimetype": "text/x-python",
   "name": "python",
   "nbconvert_exporter": "python",
   "pygments_lexer": "ipython2",
   "version": "2.7.12"
  }
 },
 "nbformat": 4,
 "nbformat_minor": 0
}
