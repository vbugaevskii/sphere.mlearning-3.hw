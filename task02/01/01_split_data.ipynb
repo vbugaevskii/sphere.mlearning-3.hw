{
 "cells": [
  {
   "cell_type": "code",
   "execution_count": 1,
   "metadata": {
    "collapsed": true
   },
   "outputs": [],
   "source": [
    "import commands\n",
    "\n",
    "import numpy as np\n",
    "import pandas as pd"
   ]
  },
  {
   "cell_type": "code",
   "execution_count": 2,
   "metadata": {
    "collapsed": false
   },
   "outputs": [
    {
     "data": {
      "text/html": [
       "<div>\n",
       "<table border=\"1\" class=\"dataframe\">\n",
       "  <thead>\n",
       "    <tr style=\"text-align: right;\">\n",
       "      <th></th>\n",
       "      <th>id</th>\n",
       "      <th>x_0</th>\n",
       "      <th>x_1</th>\n",
       "      <th>x_2</th>\n",
       "      <th>x_3</th>\n",
       "      <th>x_4</th>\n",
       "      <th>x_5</th>\n",
       "      <th>x_6</th>\n",
       "      <th>x_7</th>\n",
       "      <th>x_8</th>\n",
       "      <th>x_9</th>\n",
       "    </tr>\n",
       "  </thead>\n",
       "  <tbody>\n",
       "    <tr>\n",
       "      <th>0</th>\n",
       "      <td>0</td>\n",
       "      <td>3.341563</td>\n",
       "      <td>1.521411</td>\n",
       "      <td>4.092960</td>\n",
       "      <td>1.942393</td>\n",
       "      <td>1.034463</td>\n",
       "      <td>3.533365</td>\n",
       "      <td>2.752306</td>\n",
       "      <td>4.664873</td>\n",
       "      <td>4.029349</td>\n",
       "      <td>4.694873</td>\n",
       "    </tr>\n",
       "    <tr>\n",
       "      <th>1</th>\n",
       "      <td>1</td>\n",
       "      <td>1.286446</td>\n",
       "      <td>0.628620</td>\n",
       "      <td>1.923768</td>\n",
       "      <td>1.170648</td>\n",
       "      <td>4.962474</td>\n",
       "      <td>1.948102</td>\n",
       "      <td>1.712321</td>\n",
       "      <td>3.273291</td>\n",
       "      <td>4.993338</td>\n",
       "      <td>4.687065</td>\n",
       "    </tr>\n",
       "    <tr>\n",
       "      <th>2</th>\n",
       "      <td>2</td>\n",
       "      <td>1.232991</td>\n",
       "      <td>2.191868</td>\n",
       "      <td>0.570618</td>\n",
       "      <td>1.265919</td>\n",
       "      <td>2.171190</td>\n",
       "      <td>2.831534</td>\n",
       "      <td>4.744179</td>\n",
       "      <td>2.184337</td>\n",
       "      <td>1.176302</td>\n",
       "      <td>4.342259</td>\n",
       "    </tr>\n",
       "    <tr>\n",
       "      <th>3</th>\n",
       "      <td>3</td>\n",
       "      <td>1.960415</td>\n",
       "      <td>3.122970</td>\n",
       "      <td>2.238440</td>\n",
       "      <td>1.029877</td>\n",
       "      <td>0.856709</td>\n",
       "      <td>3.189741</td>\n",
       "      <td>4.618474</td>\n",
       "      <td>3.061683</td>\n",
       "      <td>1.267660</td>\n",
       "      <td>0.987649</td>\n",
       "    </tr>\n",
       "    <tr>\n",
       "      <th>4</th>\n",
       "      <td>4</td>\n",
       "      <td>0.630869</td>\n",
       "      <td>2.116596</td>\n",
       "      <td>1.080991</td>\n",
       "      <td>2.489768</td>\n",
       "      <td>2.663922</td>\n",
       "      <td>2.714398</td>\n",
       "      <td>1.149122</td>\n",
       "      <td>2.769074</td>\n",
       "      <td>3.626005</td>\n",
       "      <td>1.099647</td>\n",
       "    </tr>\n",
       "  </tbody>\n",
       "</table>\n",
       "</div>"
      ],
      "text/plain": [
       "   id       x_0       x_1       x_2       x_3       x_4       x_5       x_6  \\\n",
       "0   0  3.341563  1.521411  4.092960  1.942393  1.034463  3.533365  2.752306   \n",
       "1   1  1.286446  0.628620  1.923768  1.170648  4.962474  1.948102  1.712321   \n",
       "2   2  1.232991  2.191868  0.570618  1.265919  2.171190  2.831534  4.744179   \n",
       "3   3  1.960415  3.122970  2.238440  1.029877  0.856709  3.189741  4.618474   \n",
       "4   4  0.630869  2.116596  1.080991  2.489768  2.663922  2.714398  1.149122   \n",
       "\n",
       "        x_7       x_8       x_9  \n",
       "0  4.664873  4.029349  4.694873  \n",
       "1  3.273291  4.993338  4.687065  \n",
       "2  2.184337  1.176302  4.342259  \n",
       "3  3.061683  1.267660  0.987649  \n",
       "4  2.769074  3.626005  1.099647  "
      ]
     },
     "execution_count": 2,
     "metadata": {},
     "output_type": "execute_result"
    }
   ],
   "source": [
    "data = pd.read_csv('X_public.csv', sep=',')\n",
    "data.head()"
   ]
  },
  {
   "cell_type": "code",
   "execution_count": 3,
   "metadata": {
    "collapsed": false
   },
   "outputs": [
    {
     "data": {
      "text/plain": [
       "(1000000, 11)"
      ]
     },
     "execution_count": 3,
     "metadata": {},
     "output_type": "execute_result"
    }
   ],
   "source": [
    "data.shape"
   ]
  },
  {
   "cell_type": "code",
   "execution_count": 4,
   "metadata": {
    "collapsed": false
   },
   "outputs": [],
   "source": [
    "index = np.random.permutation(len(data))\n",
    "\n",
    "n_train = 50000\n",
    "n_valid = 20000\n",
    "\n",
    "index_train, index_valid, index_test = \\\n",
    "    index[:n_train], index[n_train:n_train+n_valid], index[n_train+n_valid:]\n",
    "    \n",
    "X_train, X_valid, X_test = \\\n",
    "    data.values[index_train], data.values[index_valid], data.values[index_test]"
   ]
  },
  {
   "cell_type": "code",
   "execution_count": 5,
   "metadata": {
    "collapsed": true
   },
   "outputs": [],
   "source": [
    "df = pd.DataFrame(X_train, columns=data.columns)\n",
    "df[\"id\"] = df[\"id\"].astype(int)\n",
    "df.to_csv('./data/X_train.csv', index=False, sep=',')"
   ]
  },
  {
   "cell_type": "code",
   "execution_count": 6,
   "metadata": {
    "collapsed": false
   },
   "outputs": [],
   "source": [
    "df = pd.DataFrame(X_valid, columns=data.columns)\n",
    "df[\"id\"] = df[\"id\"].astype(int)\n",
    "df.to_csv('./data/X_valid.csv', index=False, sep=',')"
   ]
  },
  {
   "cell_type": "code",
   "execution_count": 7,
   "metadata": {
    "collapsed": true
   },
   "outputs": [],
   "source": [
    "df = pd.DataFrame(X_test, columns=data.columns)\n",
    "df[\"id\"] = df[\"id\"].astype(int)\n",
    "df.to_csv('./data/X_test.csv', index=False, sep=',')"
   ]
  },
  {
   "cell_type": "code",
   "execution_count": null,
   "metadata": {
    "collapsed": false
   },
   "outputs": [],
   "source": [
    "%run OracleManager.py -n 200 -fin X_valid.csv -fout Y_valid.csv"
   ]
  },
  {
   "cell_type": "code",
   "execution_count": null,
   "metadata": {
    "collapsed": false
   },
   "outputs": [],
   "source": [
    "%run OracleManager.py -n 200 -fin X_train.csv -fout Y_train.csv"
   ]
  },
  {
   "cell_type": "code",
   "execution_count": null,
   "metadata": {
    "collapsed": true
   },
   "outputs": [],
   "source": []
  }
 ],
 "metadata": {
  "kernelspec": {
   "display_name": "Python 2",
   "language": "python",
   "name": "python2"
  },
  "language_info": {
   "codemirror_mode": {
    "name": "ipython",
    "version": 2
   },
   "file_extension": ".py",
   "mimetype": "text/x-python",
   "name": "python",
   "nbconvert_exporter": "python",
   "pygments_lexer": "ipython2",
   "version": "2.7.12"
  }
 },
 "nbformat": 4,
 "nbformat_minor": 0
}
