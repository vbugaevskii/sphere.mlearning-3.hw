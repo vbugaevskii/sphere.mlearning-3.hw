{
 "cells": [
  {
   "cell_type": "code",
   "execution_count": 1,
   "metadata": {
    "collapsed": true
   },
   "outputs": [],
   "source": [
    "import sys\n",
    "if '../' not in sys.path: sys.path.append('../')"
   ]
  },
  {
   "cell_type": "code",
   "execution_count": 2,
   "metadata": {
    "collapsed": false
   },
   "outputs": [],
   "source": [
    "%load_ext autoreload\n",
    "%autoreload 2\n",
    "\n",
    "from itertools import izip\n",
    "\n",
    "import numpy as np\n",
    "import pandas as pd\n",
    "\n",
    "from sklearn.ensemble import GradientBoostingClassifier, RandomForestClassifier\n",
    "from sklearn.linear_model import LogisticRegression\n",
    "\n",
    "from sklearn.metrics import log_loss\n",
    "\n",
    "from RandomForestMultivariate import RandomForest\n",
    "from data.dataset import IrisDataSet, WineDataSet, BupaDataSet\n",
    "\n",
    "import matplotlib.pyplot as plt\n",
    "%matplotlib inline"
   ]
  },
  {
   "cell_type": "code",
   "execution_count": 3,
   "metadata": {
    "collapsed": false
   },
   "outputs": [
    {
     "name": "stdout",
     "output_type": "stream",
     "text": [
      "x.shape: (178, 13)\n",
      "y.shape: (178,) \n",
      "\n",
      "y unique: [1.0, 2.0, 3.0]\n",
      "Y_train:  [ 1.  2.  3.]\n",
      "Y_test:   [ 1.  2.  3.]\n"
     ]
    }
   ],
   "source": [
    "# data = IrisDataSet().load()\n",
    "data = WineDataSet().load()\n",
    "# data = BupaDataSet().load()\n",
    "\n",
    "X_train, Y_train, X_test, Y_test = data.split(p_test=0.25)"
   ]
  },
  {
   "cell_type": "code",
   "execution_count": 4,
   "metadata": {
    "collapsed": true
   },
   "outputs": [],
   "source": [
    "chosen_class = 2\n",
    "Y_train = (Y_train == chosen_class).astype(int)\n",
    "Y_test = (Y_test == chosen_class).astype(int)"
   ]
  },
  {
   "cell_type": "markdown",
   "metadata": {},
   "source": [
    "# Attempt 1"
   ]
  },
  {
   "cell_type": "code",
   "execution_count": 5,
   "metadata": {
    "collapsed": true
   },
   "outputs": [],
   "source": [
    "from sklearn.ensemble import VotingClassifier"
   ]
  },
  {
   "cell_type": "code",
   "execution_count": 6,
   "metadata": {
    "collapsed": false
   },
   "outputs": [
    {
     "name": "stdout",
     "output_type": "stream",
     "text": [
      "Fit is complete!\n"
     ]
    }
   ],
   "source": [
    "cls = [('rf', RandomForest(n_trees=100, p_items=1.0, p_features=0.8)),\n",
    "       ('lr', LogisticRegression(C=1e7, tol=1e-7)),\n",
    "       ('gb', GradientBoostingClassifier(n_estimators=100, learning_rate=0.1))]\n",
    "\n",
    "for i, cl in cls:\n",
    "    cl.fit(X_train, Y_train)"
   ]
  },
  {
   "cell_type": "code",
   "execution_count": 7,
   "metadata": {
    "collapsed": false
   },
   "outputs": [
    {
     "name": "stdout",
     "output_type": "stream",
     "text": [
      "0.0814365749773\n",
      "0.882731934696\n",
      "0.12226796034\n"
     ]
    }
   ],
   "source": [
    "Y_pred = []\n",
    "\n",
    "for i, cl in cls:\n",
    "    Y_pred.append(cl.predict_proba(X_test)[:, 1])\n",
    "    print log_loss(Y_test, Y_pred[-1])"
   ]
  },
  {
   "cell_type": "code",
   "execution_count": 8,
   "metadata": {
    "collapsed": false
   },
   "outputs": [
    {
     "data": {
      "text/plain": [
       "0.092277486662292713"
      ]
     },
     "execution_count": 8,
     "metadata": {},
     "output_type": "execute_result"
    }
   ],
   "source": [
    "log_loss(Y_test, np.average(Y_pred, axis=0))"
   ]
  },
  {
   "cell_type": "markdown",
   "metadata": {},
   "source": [
    "# Attempt 2"
   ]
  },
  {
   "cell_type": "code",
   "execution_count": 9,
   "metadata": {
    "collapsed": false
   },
   "outputs": [],
   "source": [
    "class WeightedModel:\n",
    "    def __init__(self, X, Y):\n",
    "        self.cls = [\n",
    "            RandomForest(n_trees=100, p_items=1.0, p_features=0.8),\n",
    "            LogisticRegression(C=1e7, tol=1e-7),\n",
    "            GradientBoostingClassifier(n_estimators=100, learning_rate=0.1)\n",
    "        ]\n",
    "        \n",
    "        X_train, Y_train, X_test, Y_test = self.generate(X, Y, frac_test=0.3)\n",
    "        \n",
    "        Y_pred = []\n",
    "        for cl in self.cls:\n",
    "            cl.fit(*self.generate(X_train, Y_train, frac_test=0.2)[:2])\n",
    "            Y_pred.append(cl.predict_proba(X_test)[:, 1])\n",
    "            print Y_pred[-1].shape\n",
    "        \n",
    "        Y_pred = self.change_dataset(Y_pred)\n",
    "        print Y_pred.shape\n",
    "        \n",
    "        self.predictor = RandomForest(n_trees=100, p_items=1.0, p_features=0.8)\n",
    "        self.predictor.fit(Y_pred, Y_test)\n",
    "        \n",
    "    def generate(self, X, Y, frac_test=0.1):\n",
    "        # boarder = int(len(Y) * (1.0 - frac_test))\n",
    "        \n",
    "        # index = np.random.permutation(len(Y))\n",
    "        # index_train, index_test = index[:boarder], index[boarder:]\n",
    "        \n",
    "        border_p = int(sum(Y == 1) * (1.0 - frac_test))\n",
    "        border_n = int(sum(Y == 0) * (1.0 - frac_test))\n",
    "        \n",
    "        index_p = np.random.permutation(np.where(np.asarray(Y) == 1)[0])\n",
    "        index_n = np.random.permutation(np.where(np.asarray(Y) == 0)[0])\n",
    "        \n",
    "        index_train = np.hstack((index_p[:border_p], index_n[:border_n]))\n",
    "        index_test  = np.hstack((index_p[border_p:], index_n[border_n:]))\n",
    "        \n",
    "        X_train, X_test = X[index_train], X[index_test]\n",
    "        Y_train, Y_test = Y[index_train], Y[index_test]\n",
    "        \n",
    "        return X_train, Y_train, X_test, Y_test\n",
    "    \n",
    "    def change_dataset(self, x):\n",
    "        if np.asarray(x).ndim == 3:\n",
    "            return np.hstack(x)\n",
    "        else:\n",
    "            x = np.asarray(x).T\n",
    "            x = np.hstack([x, (x > 0.5).sum(axis=1).reshape(-1, 1)])\n",
    "            return x\n",
    "    \n",
    "    def predict_proba(self, X_test):\n",
    "        Y_pred = []\n",
    "        for cl in self.cls:\n",
    "            Y_pred.append(cl.predict_proba(X_test)[:, 1])\n",
    "            print Y_pred[-1].shape\n",
    "        \n",
    "        Y_pred = self.change_dataset(Y_pred)\n",
    "        print Y_pred.shape\n",
    "        \n",
    "        return self.predictor.predict_proba(Y_pred)"
   ]
  },
  {
   "cell_type": "code",
   "execution_count": 10,
   "metadata": {
    "collapsed": false
   },
   "outputs": [
    {
     "name": "stdout",
     "output_type": "stream",
     "text": [
      "Fit is complete!\n",
      "(41,)\n",
      "(41,)\n",
      "(41,)\n",
      "(41, 4)\n",
      "Fit is complete!\n"
     ]
    }
   ],
   "source": [
    "model = WeightedModel(X_train, Y_train)"
   ]
  },
  {
   "cell_type": "code",
   "execution_count": 11,
   "metadata": {
    "collapsed": false
   },
   "outputs": [
    {
     "name": "stdout",
     "output_type": "stream",
     "text": [
      "(45,)\n",
      "(45,)\n",
      "(45,)\n",
      "(45, 4)\n"
     ]
    },
    {
     "data": {
      "text/plain": [
       "0.083250221227927884"
      ]
     },
     "execution_count": 11,
     "metadata": {},
     "output_type": "execute_result"
    }
   ],
   "source": [
    "Y_pred = model.predict_proba(X_test)\n",
    "log_loss(Y_test, Y_pred)"
   ]
  },
  {
   "cell_type": "code",
   "execution_count": null,
   "metadata": {
    "collapsed": true
   },
   "outputs": [],
   "source": []
  }
 ],
 "metadata": {
  "kernelspec": {
   "display_name": "Python 2",
   "language": "python",
   "name": "python2"
  },
  "language_info": {
   "codemirror_mode": {
    "name": "ipython",
    "version": 2
   },
   "file_extension": ".py",
   "mimetype": "text/x-python",
   "name": "python",
   "nbconvert_exporter": "python",
   "pygments_lexer": "ipython2",
   "version": "2.7.12"
  }
 },
 "nbformat": 4,
 "nbformat_minor": 0
}
