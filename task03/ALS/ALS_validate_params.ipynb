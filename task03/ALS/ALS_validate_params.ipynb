{
 "cells": [
  {
   "cell_type": "code",
   "execution_count": 1,
   "metadata": {
    "collapsed": true
   },
   "outputs": [],
   "source": [
    "import numpy as np\n",
    "import pandas as pd"
   ]
  },
  {
   "cell_type": "code",
   "execution_count": 2,
   "metadata": {
    "collapsed": false
   },
   "outputs": [],
   "source": [
    "import operator\n",
    "\n",
    "from copy import copy"
   ]
  },
  {
   "cell_type": "code",
   "execution_count": 3,
   "metadata": {
    "collapsed": true
   },
   "outputs": [],
   "source": [
    "from sklearn.metrics import mean_squared_error"
   ]
  },
  {
   "cell_type": "code",
   "execution_count": 4,
   "metadata": {
    "collapsed": false
   },
   "outputs": [
    {
     "data": {
      "text/html": [
       "<div>\n",
       "<table border=\"1\" class=\"dataframe\">\n",
       "  <thead>\n",
       "    <tr style=\"text-align: right;\">\n",
       "      <th></th>\n",
       "      <th>users</th>\n",
       "      <th>items</th>\n",
       "      <th>rank</th>\n",
       "    </tr>\n",
       "  </thead>\n",
       "  <tbody>\n",
       "    <tr>\n",
       "      <th>0</th>\n",
       "      <td>1</td>\n",
       "      <td>1</td>\n",
       "      <td>5</td>\n",
       "    </tr>\n",
       "    <tr>\n",
       "      <th>1</th>\n",
       "      <td>1</td>\n",
       "      <td>2</td>\n",
       "      <td>3</td>\n",
       "    </tr>\n",
       "    <tr>\n",
       "      <th>2</th>\n",
       "      <td>1</td>\n",
       "      <td>3</td>\n",
       "      <td>4</td>\n",
       "    </tr>\n",
       "    <tr>\n",
       "      <th>3</th>\n",
       "      <td>1</td>\n",
       "      <td>4</td>\n",
       "      <td>3</td>\n",
       "    </tr>\n",
       "    <tr>\n",
       "      <th>4</th>\n",
       "      <td>1</td>\n",
       "      <td>5</td>\n",
       "      <td>3</td>\n",
       "    </tr>\n",
       "  </tbody>\n",
       "</table>\n",
       "</div>"
      ],
      "text/plain": [
       "   users  items  rank\n",
       "0      1      1     5\n",
       "1      1      2     3\n",
       "2      1      3     4\n",
       "3      1      4     3\n",
       "4      1      5     3"
      ]
     },
     "execution_count": 4,
     "metadata": {},
     "output_type": "execute_result"
    }
   ],
   "source": [
    "df = pd.read_csv(\"../data/train.txt\", sep='\\t', header=None, names=[\"users\", \"items\", \"rank\"])\n",
    "df.head()"
   ]
  },
  {
   "cell_type": "code",
   "execution_count": 5,
   "metadata": {
    "collapsed": false
   },
   "outputs": [
    {
     "data": {
      "text/plain": [
       "array([5, 3, 4, 1, 2])"
      ]
     },
     "execution_count": 5,
     "metadata": {},
     "output_type": "execute_result"
    }
   ],
   "source": [
    "df[\"rank\"].unique()"
   ]
  },
  {
   "cell_type": "code",
   "execution_count": 6,
   "metadata": {
    "collapsed": false
   },
   "outputs": [],
   "source": [
    "n_users = df[\"users\"].max()\n",
    "n_items = df[\"items\"].max()"
   ]
  },
  {
   "cell_type": "code",
   "execution_count": 7,
   "metadata": {
    "collapsed": false
   },
   "outputs": [
    {
     "data": {
      "text/html": [
       "<div>\n",
       "<table border=\"1\" class=\"dataframe\">\n",
       "  <thead>\n",
       "    <tr style=\"text-align: right;\">\n",
       "      <th></th>\n",
       "      <th>users</th>\n",
       "      <th>items</th>\n",
       "      <th>rank</th>\n",
       "    </tr>\n",
       "  </thead>\n",
       "  <tbody>\n",
       "    <tr>\n",
       "      <th>0</th>\n",
       "      <td>0</td>\n",
       "      <td>0</td>\n",
       "      <td>5</td>\n",
       "    </tr>\n",
       "    <tr>\n",
       "      <th>1</th>\n",
       "      <td>0</td>\n",
       "      <td>1</td>\n",
       "      <td>3</td>\n",
       "    </tr>\n",
       "    <tr>\n",
       "      <th>2</th>\n",
       "      <td>0</td>\n",
       "      <td>2</td>\n",
       "      <td>4</td>\n",
       "    </tr>\n",
       "    <tr>\n",
       "      <th>3</th>\n",
       "      <td>0</td>\n",
       "      <td>3</td>\n",
       "      <td>3</td>\n",
       "    </tr>\n",
       "    <tr>\n",
       "      <th>4</th>\n",
       "      <td>0</td>\n",
       "      <td>4</td>\n",
       "      <td>3</td>\n",
       "    </tr>\n",
       "  </tbody>\n",
       "</table>\n",
       "</div>"
      ],
      "text/plain": [
       "   users  items  rank\n",
       "0      0      0     5\n",
       "1      0      1     3\n",
       "2      0      2     4\n",
       "3      0      3     3\n",
       "4      0      4     3"
      ]
     },
     "execution_count": 7,
     "metadata": {},
     "output_type": "execute_result"
    }
   ],
   "source": [
    "df[[\"users\", \"items\"]] -= 1\n",
    "df.head()"
   ]
  },
  {
   "cell_type": "code",
   "execution_count": 8,
   "metadata": {
    "collapsed": true
   },
   "outputs": [],
   "source": [
    "def score(matrix, values):\n",
    "    y_pred = [matrix[user, item] for user, item, rank in values]\n",
    "    y_true = map(operator.itemgetter(2), values)\n",
    "    return mean_squared_error(y_true, y_pred)"
   ]
  },
  {
   "cell_type": "code",
   "execution_count": 9,
   "metadata": {
    "collapsed": true
   },
   "outputs": [],
   "source": [
    "def iter_step(weights, df_grouped, C):\n",
    "    weights_ = copy(weights)\n",
    "    \n",
    "    for user, group in df_grouped[\"users\"]:\n",
    "        Q = weights_[\"items\"][group[\"items\"].values]\n",
    "        r = group[\"rank\"].values\n",
    "        \n",
    "        A = np.dot(Q.T, Q) + C * np.eye(Q.shape[1])\n",
    "        b = np.dot(Q.T, r)\n",
    "        \n",
    "        weights_[\"users\"][user] = np.linalg.solve(A, b)\n",
    "    \n",
    "    for item, group in df_grouped[\"items\"]:\n",
    "        P = weights_[\"users\"][group[\"users\"].values]\n",
    "        r = group[\"rank\"].values\n",
    "        \n",
    "        A = np.dot(P.T, P) + C * np.eye(P.shape[1])\n",
    "        b = np.dot(P.T, r)\n",
    "        \n",
    "        weights_[\"items\"][item] = np.linalg.solve(A, b)\n",
    "    \n",
    "    return weights_"
   ]
  },
  {
   "cell_type": "code",
   "execution_count": 10,
   "metadata": {
    "collapsed": true
   },
   "outputs": [],
   "source": [
    "index = np.random.permutation(df.shape[0])\n",
    "alpha = int(0.8 * len(index))\n",
    "\n",
    "df_train, df_valid = df.iloc[index[:alpha]], df.iloc[index[alpha:]]"
   ]
  },
  {
   "cell_type": "code",
   "execution_count": 11,
   "metadata": {
    "collapsed": false
   },
   "outputs": [],
   "source": [
    "df_grouped = {cat : df_train.groupby(by=cat) for cat in [\"users\", \"items\"]}"
   ]
  },
  {
   "cell_type": "code",
   "execution_count": 12,
   "metadata": {
    "collapsed": false
   },
   "outputs": [
    {
     "name": "stdout",
     "output_type": "stream",
     "text": [
      "[  1.00000000e-02   1.00000000e-01   1.00000000e+00   1.00000000e+01\n",
      "   1.00000000e+02]\n",
      "[5, 10, 15, 30, 50, 100]\n"
     ]
    }
   ],
   "source": [
    "C_range = np.power(10.0, np.arange(-2, 3))\n",
    "features_range = [5, 10, 15, 30, 50, 100]\n",
    "\n",
    "print C_range\n",
    "print features_range"
   ]
  },
  {
   "cell_type": "code",
   "execution_count": 13,
   "metadata": {
    "collapsed": false
   },
   "outputs": [
    {
     "name": "stdout",
     "output_type": "stream",
     "text": [
      "                  0.01        0.1        1.0       10.0      100.0\n",
      "train:    5    0.58737    0.58827    0.58990    0.75122    2.84288\n",
      "valid:    5    2.43197    1.23583    1.01461    0.96909    2.95030\n",
      "train:   10    0.41589    0.41814    0.42926    0.65590    2.84288\n",
      "valid:   10    2.35523    1.72507    1.19922    0.97509    2.95024\n",
      "train:   15    0.30848    0.30611    0.31783    0.59157    2.84288\n",
      "valid:   15    3.16124    2.22200    1.34095    0.98485    2.95018\n",
      "train:   30    0.12324    0.11982    0.12863    0.48210    2.84288\n",
      "valid:   30    4.50099    3.29638    1.74120    1.00395    2.95023\n",
      "train:   50    0.02814    0.02747    0.03579    0.42184    2.84288\n",
      "valid:   50    4.74406    4.31660    1.87589    1.00722    2.95015\n",
      "train:  100    0.00035    0.00042    0.00682    0.39373    2.84288\n",
      "valid:  100    4.55402    5.42915    1.51608    0.99673    2.95018\n"
     ]
    }
   ],
   "source": [
    "print \" \" * (len(\"\\rtrain: {:>4}\".format(0)) - 1),\n",
    "for C in C_range:\n",
    "    print \"{:>10}\".format(C),\n",
    "print\n",
    "\n",
    "for feature_i, n_features in enumerate(features_range):\n",
    "    weights = dict()\n",
    "    weights[\"users\"] = np.random.normal(loc=0.0, scale=0.01, size=(n_users, n_features))\n",
    "    weights[\"items\"] = np.random.normal(loc=0.0, scale=0.01, size=(n_items, n_features))\n",
    "    \n",
    "    weights_ = copy(weights)\n",
    "    scores = []\n",
    "    \n",
    "    for C_i, C in enumerate(C_range):\n",
    "        weights = copy(weights_)\n",
    "        \n",
    "        for i in range(20):\n",
    "            weigths = iter_step(weights, df_grouped, C)\n",
    "            \n",
    "        matrix = np.dot(weights[\"users\"], weights[\"items\"].T)\n",
    "        scores.append(\n",
    "            (score(matrix, df_train.values),\n",
    "             score(matrix, df_valid.values))\n",
    "        )\n",
    "        \n",
    "        print \"\\r{} of {} iters passed...\".format(C_i + 1, len(C_range)),\n",
    "        \n",
    "    print \"\\rtrain: {:>4}\".format(n_features),\n",
    "    for scr in map(operator.itemgetter(0), scores):\n",
    "        print \"{:>10.5f}\".format(scr),\n",
    "    print\n",
    "    \n",
    "    print \"\\rvalid: {:>4}\".format(n_features),\n",
    "    for scr in map(operator.itemgetter(1), scores):\n",
    "        print \"{:>10.5f}\".format(scr),\n",
    "    print\n",
    "    "
   ]
  },
  {
   "cell_type": "code",
   "execution_count": null,
   "metadata": {
    "collapsed": true
   },
   "outputs": [],
   "source": []
  },
  {
   "cell_type": "code",
   "execution_count": 18,
   "metadata": {
    "collapsed": false
   },
   "outputs": [],
   "source": [
    "C_range = [1.0, 5.0, 10.0, 25.0, 50.0]\n",
    "features_range = range(3, 10)"
   ]
  },
  {
   "cell_type": "code",
   "execution_count": 19,
   "metadata": {
    "collapsed": false
   },
   "outputs": [
    {
     "name": "stdout",
     "output_type": "stream",
     "text": [
      "                   1.0        5.0       10.0       25.0       50.0\n",
      "train:    3    0.68474    0.73406    0.81532    1.10634    1.67888\n",
      "valid:    3    0.92070    0.91968    0.97979    1.24305    1.79474\n",
      "train:    4    0.63142    0.69136    0.78005    1.09594    1.67888\n",
      "valid:    4    0.94003    0.91039    0.97129    1.23906    1.79470\n",
      "train:    5    0.58873    0.65635    0.75361    1.08883    1.67888\n",
      "valid:    5    0.96774    0.91982    0.97250    1.23761    1.79476\n",
      "train:    6    0.55143    0.62474    0.72914    1.08327    1.67889\n",
      "valid:    6    1.00876    0.93919    0.96935    1.23507    1.79473\n",
      "train:    7    0.51370    0.59475    0.70674    1.08070    1.67889\n",
      "valid:    7    1.05804    0.94668    0.96799    1.23468    1.79474\n",
      "train:    8    0.48677    0.57074    0.68892    1.07886    1.67888\n",
      "valid:    8    1.10041    0.95950    0.97225    1.23440    1.79483\n",
      "train:    9    0.45449    0.54621    0.67170    1.07880    1.67888\n",
      "valid:    9    1.11350    0.96962    0.97711    1.23432    1.79474\n"
     ]
    }
   ],
   "source": [
    "print \" \" * (len(\"\\rtrain: {:>4}\".format(0)) - 1),\n",
    "for C in C_range:\n",
    "    print \"{:>10}\".format(C),\n",
    "print\n",
    "\n",
    "for feature_i, n_features in enumerate(features_range):\n",
    "    weights = dict()\n",
    "    weights[\"users\"] = np.random.normal(loc=0.0, scale=0.01, size=(n_users, n_features))\n",
    "    weights[\"items\"] = np.random.normal(loc=0.0, scale=0.01, size=(n_items, n_features))\n",
    "    \n",
    "    weights_ = copy(weights)\n",
    "    scores = []\n",
    "    \n",
    "    for C_i, C in enumerate(C_range):\n",
    "        weights = copy(weights_)\n",
    "        \n",
    "        for i in range(20):\n",
    "            weigths = iter_step(weights, df_grouped, C)\n",
    "            \n",
    "        matrix = np.dot(weights[\"users\"], weights[\"items\"].T)\n",
    "        scores.append(\n",
    "            (score(matrix, df_train.values),\n",
    "             score(matrix, df_valid.values))\n",
    "        )\n",
    "        \n",
    "        print \"\\r{} of {} iters passed...\".format(C_i + 1, len(C_range)),\n",
    "        \n",
    "    print \"\\rtrain: {:>4}\".format(n_features),\n",
    "    for scr in map(operator.itemgetter(0), scores):\n",
    "        print \"{:>10.5f}\".format(scr),\n",
    "    print\n",
    "    \n",
    "    print \"\\rvalid: {:>4}\".format(n_features),\n",
    "    for scr in map(operator.itemgetter(1), scores):\n",
    "        print \"{:>10.5f}\".format(scr),\n",
    "    print\n",
    "    "
   ]
  },
  {
   "cell_type": "code",
   "execution_count": null,
   "metadata": {
    "collapsed": true
   },
   "outputs": [],
   "source": []
  }
 ],
 "metadata": {
  "kernelspec": {
   "display_name": "Python 2",
   "language": "python",
   "name": "python2"
  },
  "language_info": {
   "codemirror_mode": {
    "name": "ipython",
    "version": 2
   },
   "file_extension": ".py",
   "mimetype": "text/x-python",
   "name": "python",
   "nbconvert_exporter": "python",
   "pygments_lexer": "ipython2",
   "version": "2.7.12"
  }
 },
 "nbformat": 4,
 "nbformat_minor": 0
}
