{
 "cells": [
  {
   "cell_type": "code",
   "execution_count": 1,
   "metadata": {
    "collapsed": true
   },
   "outputs": [],
   "source": [
    "import numpy as np\n",
    "import pandas as pd"
   ]
  },
  {
   "cell_type": "code",
   "execution_count": 2,
   "metadata": {
    "collapsed": false
   },
   "outputs": [],
   "source": [
    "import operator\n",
    "\n",
    "from copy import copy"
   ]
  },
  {
   "cell_type": "code",
   "execution_count": 3,
   "metadata": {
    "collapsed": true
   },
   "outputs": [],
   "source": [
    "from sklearn.metrics import mean_squared_error"
   ]
  },
  {
   "cell_type": "code",
   "execution_count": 4,
   "metadata": {
    "collapsed": false
   },
   "outputs": [
    {
     "data": {
      "text/html": [
       "<div>\n",
       "<table border=\"1\" class=\"dataframe\">\n",
       "  <thead>\n",
       "    <tr style=\"text-align: right;\">\n",
       "      <th></th>\n",
       "      <th>users</th>\n",
       "      <th>items</th>\n",
       "      <th>rank</th>\n",
       "    </tr>\n",
       "  </thead>\n",
       "  <tbody>\n",
       "    <tr>\n",
       "      <th>0</th>\n",
       "      <td>1</td>\n",
       "      <td>1</td>\n",
       "      <td>5</td>\n",
       "    </tr>\n",
       "    <tr>\n",
       "      <th>1</th>\n",
       "      <td>1</td>\n",
       "      <td>2</td>\n",
       "      <td>3</td>\n",
       "    </tr>\n",
       "    <tr>\n",
       "      <th>2</th>\n",
       "      <td>1</td>\n",
       "      <td>3</td>\n",
       "      <td>4</td>\n",
       "    </tr>\n",
       "    <tr>\n",
       "      <th>3</th>\n",
       "      <td>1</td>\n",
       "      <td>4</td>\n",
       "      <td>3</td>\n",
       "    </tr>\n",
       "    <tr>\n",
       "      <th>4</th>\n",
       "      <td>1</td>\n",
       "      <td>5</td>\n",
       "      <td>3</td>\n",
       "    </tr>\n",
       "  </tbody>\n",
       "</table>\n",
       "</div>"
      ],
      "text/plain": [
       "   users  items  rank\n",
       "0      1      1     5\n",
       "1      1      2     3\n",
       "2      1      3     4\n",
       "3      1      4     3\n",
       "4      1      5     3"
      ]
     },
     "execution_count": 4,
     "metadata": {},
     "output_type": "execute_result"
    }
   ],
   "source": [
    "df = pd.read_csv(\"../data/train.txt\", sep='\\t', header=None, names=[\"users\", \"items\", \"rank\"])\n",
    "df.head()"
   ]
  },
  {
   "cell_type": "code",
   "execution_count": 5,
   "metadata": {
    "collapsed": false
   },
   "outputs": [
    {
     "data": {
      "text/plain": [
       "array([5, 3, 4, 1, 2])"
      ]
     },
     "execution_count": 5,
     "metadata": {},
     "output_type": "execute_result"
    }
   ],
   "source": [
    "df[\"rank\"].unique()"
   ]
  },
  {
   "cell_type": "code",
   "execution_count": 6,
   "metadata": {
    "collapsed": false
   },
   "outputs": [],
   "source": [
    "n_users = df[\"users\"].max()\n",
    "n_items = df[\"items\"].max()"
   ]
  },
  {
   "cell_type": "code",
   "execution_count": 7,
   "metadata": {
    "collapsed": false
   },
   "outputs": [
    {
     "data": {
      "text/html": [
       "<div>\n",
       "<table border=\"1\" class=\"dataframe\">\n",
       "  <thead>\n",
       "    <tr style=\"text-align: right;\">\n",
       "      <th></th>\n",
       "      <th>users</th>\n",
       "      <th>items</th>\n",
       "      <th>rank</th>\n",
       "    </tr>\n",
       "  </thead>\n",
       "  <tbody>\n",
       "    <tr>\n",
       "      <th>0</th>\n",
       "      <td>0</td>\n",
       "      <td>0</td>\n",
       "      <td>5</td>\n",
       "    </tr>\n",
       "    <tr>\n",
       "      <th>1</th>\n",
       "      <td>0</td>\n",
       "      <td>1</td>\n",
       "      <td>3</td>\n",
       "    </tr>\n",
       "    <tr>\n",
       "      <th>2</th>\n",
       "      <td>0</td>\n",
       "      <td>2</td>\n",
       "      <td>4</td>\n",
       "    </tr>\n",
       "    <tr>\n",
       "      <th>3</th>\n",
       "      <td>0</td>\n",
       "      <td>3</td>\n",
       "      <td>3</td>\n",
       "    </tr>\n",
       "    <tr>\n",
       "      <th>4</th>\n",
       "      <td>0</td>\n",
       "      <td>4</td>\n",
       "      <td>3</td>\n",
       "    </tr>\n",
       "  </tbody>\n",
       "</table>\n",
       "</div>"
      ],
      "text/plain": [
       "   users  items  rank\n",
       "0      0      0     5\n",
       "1      0      1     3\n",
       "2      0      2     4\n",
       "3      0      3     3\n",
       "4      0      4     3"
      ]
     },
     "execution_count": 7,
     "metadata": {},
     "output_type": "execute_result"
    }
   ],
   "source": [
    "df[[\"users\", \"items\"]] -= 1\n",
    "df.head()"
   ]
  },
  {
   "cell_type": "code",
   "execution_count": 8,
   "metadata": {
    "collapsed": true
   },
   "outputs": [],
   "source": [
    "def score(matrix, values):\n",
    "    y_pred = [matrix[user, item] for user, item, rank in values]\n",
    "    y_true = map(operator.itemgetter(2), values)\n",
    "    return mean_squared_error(y_true, y_pred)"
   ]
  },
  {
   "cell_type": "code",
   "execution_count": 9,
   "metadata": {
    "collapsed": false
   },
   "outputs": [],
   "source": [
    "def iter_step(weights, bias, df_grouped, C, alpha):\n",
    "    weights_, bias_ = copy(weights), copy(bias)\n",
    "    \n",
    "    for user, group in df_grouped[\"users\"]:\n",
    "        index = group[\"items\"].values\n",
    "        \n",
    "        Q = weights_[\"items\"][index]\n",
    "        Q = np.hstack((np.ones(shape=(len(index), 1), dtype=float), Q))\n",
    "        r = group[\"rank\"].values - bias_[\"items\"][index]\n",
    "        G = np.diag(1.0 + alpha * r)\n",
    "        \n",
    "        A = np.dot(Q.T, np.dot(G, Q)) + C * np.eye(Q.shape[1])\n",
    "        b = np.dot(Q.T, np.dot(G, r))\n",
    "        \n",
    "        solution = np.linalg.solve(A, b)\n",
    "        weights_[\"users\"][user], bias_[\"users\"][user] = solution[1:], solution[0] \n",
    "    \n",
    "    for item, group in df_grouped[\"items\"]:\n",
    "        index = group[\"users\"].values\n",
    "        \n",
    "        P = weights_[\"users\"][index]\n",
    "        P = np.hstack((np.ones(shape=(len(index), 1), dtype=float), P))\n",
    "        r = group[\"rank\"].values - bias_[\"users\"][index]\n",
    "        G = np.diag(1.0 + alpha * r)\n",
    "        \n",
    "        A = np.dot(P.T, np.dot(G, P)) + C * np.eye(P.shape[1])\n",
    "        b = np.dot(P.T, np.dot(G, r))\n",
    "        \n",
    "        solution = np.linalg.solve(A, b)\n",
    "        weights_[\"items\"][item], bias_[\"items\"][item] = solution[1:], solution[0]\n",
    "        \n",
    "    return weights_, bias_"
   ]
  },
  {
   "cell_type": "code",
   "execution_count": 10,
   "metadata": {
    "collapsed": false
   },
   "outputs": [],
   "source": [
    "index = np.random.permutation(df.shape[0])\n",
    "beta = int(0.8 * len(index))\n",
    "\n",
    "df_train, df_valid = df.iloc[index[:beta]], df.iloc[index[beta:]]"
   ]
  },
  {
   "cell_type": "code",
   "execution_count": 11,
   "metadata": {
    "collapsed": false
   },
   "outputs": [],
   "source": [
    "df_grouped = {cat : df_train.groupby(by=cat) for cat in [\"users\", \"items\"]}"
   ]
  },
  {
   "cell_type": "code",
   "execution_count": 12,
   "metadata": {
    "collapsed": false
   },
   "outputs": [],
   "source": [
    "C = 5.0\n",
    "n_features = 2"
   ]
  },
  {
   "cell_type": "code",
   "execution_count": 13,
   "metadata": {
    "collapsed": true
   },
   "outputs": [],
   "source": [
    "alpha_range = np.arange(0, 0.31, 0.01).tolist()\n",
    "alpha = float(len(df)) / (n_users * n_items)\n",
    "alpha_range.append(alpha)\n",
    "alpha_range = sorted(alpha_range)"
   ]
  },
  {
   "cell_type": "code",
   "execution_count": 14,
   "metadata": {
    "collapsed": false
   },
   "outputs": [
    {
     "name": "stdout",
     "output_type": "stream",
     "text": [
      "   0.00000    0.74190    0.87380\n",
      "   0.01000    0.73447    0.86290\n",
      "   0.02000    0.73247    0.86090\n",
      "   0.03000    0.73047    0.85918\n",
      "   0.04000    0.72869    0.85768\n",
      "   0.05000    0.72712    0.85637\n",
      "   0.05710    0.72612    0.85555\n",
      "   0.06000    0.72574    0.85524\n",
      "   0.07000    0.72453    0.85428\n",
      "   0.08000    0.72348    0.85346\n",
      "   0.09000    0.72257    0.85277\n",
      "   0.10000    0.72179    0.85220\n",
      "   0.11000    0.72113    0.85174\n",
      "   0.12000    0.72056    0.85137\n",
      "   0.13000    0.72010    0.85109\n",
      "   0.14000    0.71971    0.85088\n",
      "   0.15000    0.71938    0.85074\n",
      "   0.16000    0.71910    0.85067\n",
      "   0.17000    0.71889    0.85070\n",
      "   0.18000    0.71876    0.85080\n",
      "   0.19000    0.71871    0.85096\n",
      "   0.20000    0.71873    0.85117\n",
      "   0.21000    0.71880    0.85144\n",
      "   0.22000    0.71892    0.85174\n",
      "   0.23000    0.71909    0.85208\n",
      "   0.24000    0.71931    0.85246\n",
      "   0.25000    0.71956    0.85288\n",
      "   0.26000    0.71986    0.85332\n",
      "   0.27000    0.72020    0.85379\n",
      "   0.28000    0.72056    0.85428\n",
      "   0.29000    0.72097    0.85480\n",
      "   0.30000    0.72140    0.85534\n"
     ]
    }
   ],
   "source": [
    "weights = dict()\n",
    "weights[\"users\"] = np.random.normal(loc=0.0, scale=0.01, size=(n_users, n_features))\n",
    "weights[\"items\"] = np.random.normal(loc=0.0, scale=0.01, size=(n_items, n_features))\n",
    "    \n",
    "bias = dict()\n",
    "bias[\"users\"] = np.random.normal(loc=0.0, scale=0.01, size=(n_users, ))\n",
    "bias[\"items\"] = np.random.normal(loc=0.0, scale=0.01, size=(n_items, ))\n",
    "\n",
    "scores = []\n",
    "\n",
    "for alpha_i, alpha in enumerate(alpha_range):\n",
    "    weights_, bias_ = copy(weights), copy(bias)\n",
    "    \n",
    "    for i in range(20):\n",
    "        weigths, bias = iter_step(weights, bias, df_grouped, C, alpha)\n",
    "            \n",
    "    matrix = bias[\"users\"].reshape(-1, 1) + bias[\"items\"].reshape(1, -1) \\\n",
    "        + np.dot(weights[\"users\"], weights[\"items\"].T)\n",
    "    scores.append(\n",
    "        (score(matrix, df_train.values),\n",
    "         score(matrix, df_valid.values))\n",
    "    )\n",
    "        \n",
    "    print \"\\r{} of {} iters passed...\".format(alpha_i + 1, len(alpha_range)),\n",
    "    \n",
    "for alpha, scr in zip(alpha_range, scores):\n",
    "    print \"\\r{:>10.5f} {:>10.5f} {:>10.5f}\".format(alpha, *scr)"
   ]
  },
  {
   "cell_type": "code",
   "execution_count": null,
   "metadata": {
    "collapsed": true
   },
   "outputs": [],
   "source": []
  }
 ],
 "metadata": {
  "kernelspec": {
   "display_name": "Python 2",
   "language": "python",
   "name": "python2"
  },
  "language_info": {
   "codemirror_mode": {
    "name": "ipython",
    "version": 2
   },
   "file_extension": ".py",
   "mimetype": "text/x-python",
   "name": "python",
   "nbconvert_exporter": "python",
   "pygments_lexer": "ipython2",
   "version": "2.7.12"
  }
 },
 "nbformat": 4,
 "nbformat_minor": 0
}
