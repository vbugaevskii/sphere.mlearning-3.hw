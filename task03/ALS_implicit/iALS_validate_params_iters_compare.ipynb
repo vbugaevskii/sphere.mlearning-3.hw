{
 "cells": [
  {
   "cell_type": "code",
   "execution_count": 1,
   "metadata": {
    "collapsed": true
   },
   "outputs": [],
   "source": [
    "import numpy as np\n",
    "import pandas as pd"
   ]
  },
  {
   "cell_type": "code",
   "execution_count": 2,
   "metadata": {
    "collapsed": false
   },
   "outputs": [],
   "source": [
    "import operator\n",
    "\n",
    "from copy import copy"
   ]
  },
  {
   "cell_type": "code",
   "execution_count": 3,
   "metadata": {
    "collapsed": true
   },
   "outputs": [],
   "source": [
    "from sklearn.metrics import mean_squared_error"
   ]
  },
  {
   "cell_type": "code",
   "execution_count": 4,
   "metadata": {
    "collapsed": true
   },
   "outputs": [],
   "source": [
    "import matplotlib.pyplot as plt\n",
    "\n",
    "%matplotlib inline"
   ]
  },
  {
   "cell_type": "code",
   "execution_count": 5,
   "metadata": {
    "collapsed": false
   },
   "outputs": [
    {
     "data": {
      "text/html": [
       "<div>\n",
       "<table border=\"1\" class=\"dataframe\">\n",
       "  <thead>\n",
       "    <tr style=\"text-align: right;\">\n",
       "      <th></th>\n",
       "      <th>users</th>\n",
       "      <th>items</th>\n",
       "      <th>rank</th>\n",
       "    </tr>\n",
       "  </thead>\n",
       "  <tbody>\n",
       "    <tr>\n",
       "      <th>0</th>\n",
       "      <td>1</td>\n",
       "      <td>1</td>\n",
       "      <td>5</td>\n",
       "    </tr>\n",
       "    <tr>\n",
       "      <th>1</th>\n",
       "      <td>1</td>\n",
       "      <td>2</td>\n",
       "      <td>3</td>\n",
       "    </tr>\n",
       "    <tr>\n",
       "      <th>2</th>\n",
       "      <td>1</td>\n",
       "      <td>3</td>\n",
       "      <td>4</td>\n",
       "    </tr>\n",
       "    <tr>\n",
       "      <th>3</th>\n",
       "      <td>1</td>\n",
       "      <td>4</td>\n",
       "      <td>3</td>\n",
       "    </tr>\n",
       "    <tr>\n",
       "      <th>4</th>\n",
       "      <td>1</td>\n",
       "      <td>5</td>\n",
       "      <td>3</td>\n",
       "    </tr>\n",
       "  </tbody>\n",
       "</table>\n",
       "</div>"
      ],
      "text/plain": [
       "   users  items  rank\n",
       "0      1      1     5\n",
       "1      1      2     3\n",
       "2      1      3     4\n",
       "3      1      4     3\n",
       "4      1      5     3"
      ]
     },
     "execution_count": 5,
     "metadata": {},
     "output_type": "execute_result"
    }
   ],
   "source": [
    "df = pd.read_csv(\"../data/train.txt\", sep='\\t', header=None, names=[\"users\", \"items\", \"rank\"])\n",
    "df.head()"
   ]
  },
  {
   "cell_type": "code",
   "execution_count": 6,
   "metadata": {
    "collapsed": false
   },
   "outputs": [
    {
     "data": {
      "text/plain": [
       "array([5, 3, 4, 1, 2])"
      ]
     },
     "execution_count": 6,
     "metadata": {},
     "output_type": "execute_result"
    }
   ],
   "source": [
    "df[\"rank\"].unique()"
   ]
  },
  {
   "cell_type": "code",
   "execution_count": 7,
   "metadata": {
    "collapsed": false
   },
   "outputs": [],
   "source": [
    "n_users = df[\"users\"].max()\n",
    "n_items = df[\"items\"].max()"
   ]
  },
  {
   "cell_type": "code",
   "execution_count": 8,
   "metadata": {
    "collapsed": false
   },
   "outputs": [
    {
     "data": {
      "text/html": [
       "<div>\n",
       "<table border=\"1\" class=\"dataframe\">\n",
       "  <thead>\n",
       "    <tr style=\"text-align: right;\">\n",
       "      <th></th>\n",
       "      <th>users</th>\n",
       "      <th>items</th>\n",
       "      <th>rank</th>\n",
       "    </tr>\n",
       "  </thead>\n",
       "  <tbody>\n",
       "    <tr>\n",
       "      <th>0</th>\n",
       "      <td>0</td>\n",
       "      <td>0</td>\n",
       "      <td>5</td>\n",
       "    </tr>\n",
       "    <tr>\n",
       "      <th>1</th>\n",
       "      <td>0</td>\n",
       "      <td>1</td>\n",
       "      <td>3</td>\n",
       "    </tr>\n",
       "    <tr>\n",
       "      <th>2</th>\n",
       "      <td>0</td>\n",
       "      <td>2</td>\n",
       "      <td>4</td>\n",
       "    </tr>\n",
       "    <tr>\n",
       "      <th>3</th>\n",
       "      <td>0</td>\n",
       "      <td>3</td>\n",
       "      <td>3</td>\n",
       "    </tr>\n",
       "    <tr>\n",
       "      <th>4</th>\n",
       "      <td>0</td>\n",
       "      <td>4</td>\n",
       "      <td>3</td>\n",
       "    </tr>\n",
       "  </tbody>\n",
       "</table>\n",
       "</div>"
      ],
      "text/plain": [
       "   users  items  rank\n",
       "0      0      0     5\n",
       "1      0      1     3\n",
       "2      0      2     4\n",
       "3      0      3     3\n",
       "4      0      4     3"
      ]
     },
     "execution_count": 8,
     "metadata": {},
     "output_type": "execute_result"
    }
   ],
   "source": [
    "df[[\"users\", \"items\"]] -= 1\n",
    "df.head()"
   ]
  },
  {
   "cell_type": "code",
   "execution_count": 9,
   "metadata": {
    "collapsed": true
   },
   "outputs": [],
   "source": [
    "def score(matrix, values):\n",
    "    y_pred = [matrix[user, item] for user, item, rank in values]\n",
    "    y_true = map(operator.itemgetter(2), values)\n",
    "    return mean_squared_error(y_true, y_pred)"
   ]
  },
  {
   "cell_type": "code",
   "execution_count": 10,
   "metadata": {
    "collapsed": true
   },
   "outputs": [],
   "source": [
    "def iter_step(weights, bias, C, alpha):\n",
    "    weights_, bias_ = copy(weights), copy(bias)\n",
    "    \n",
    "    global n_users\n",
    "    global n_items\n",
    "    global matrix\n",
    "    \n",
    "    for user in range(n_users):\n",
    "        Q = weights_[\"items\"]\n",
    "        Q = np.hstack((np.ones(shape=(n_items, 1), dtype=float), Q))\n",
    "        r = r_matrix[user, :].reshape(-1) - bias_[\"items\"]\n",
    "        G = np.diag(G_matrix[user, :]) # np.diag(1.0 + alpha * r)\n",
    "        \n",
    "        A = np.dot(Q.T, np.dot(G, Q)) + C * np.eye(Q.shape[1])\n",
    "        b = np.dot(Q.T, np.dot(G, r))\n",
    "        \n",
    "        solution = np.linalg.solve(A, b)\n",
    "        weights_[\"users\"][user], bias_[\"users\"][user] = solution[1:], solution[0]\n",
    "        \n",
    "    for item in range(n_items):\n",
    "        P = weights_[\"users\"]\n",
    "        P = np.hstack((np.ones(shape=(n_users, 1), dtype=float), P))\n",
    "        r = r_matrix[:, item].reshape(-1) - bias_[\"users\"]\n",
    "        G = np.diag(G_matrix[:, item]) # np.diag(1.0 + alpha * r)\n",
    "        \n",
    "        A = np.dot(P.T, np.dot(G, P)) + C * np.eye(P.shape[1])\n",
    "        b = np.dot(P.T, np.dot(G, r))\n",
    "        \n",
    "        solution = np.linalg.solve(A, b)\n",
    "        weights_[\"items\"][item], bias_[\"items\"][item] = solution[1:], solution[0]\n",
    "        \n",
    "    return weights_, bias_"
   ]
  },
  {
   "cell_type": "code",
   "execution_count": 11,
   "metadata": {
    "collapsed": true
   },
   "outputs": [],
   "source": [
    "index = np.random.permutation(df.shape[0])\n",
    "beta = int(0.8 * len(index))\n",
    "\n",
    "df_train, df_valid = df.iloc[index[:beta]], df.iloc[index[beta:]]"
   ]
  },
  {
   "cell_type": "code",
   "execution_count": 12,
   "metadata": {
    "collapsed": true
   },
   "outputs": [],
   "source": [
    "df_grouped = {cat : df_train.groupby(by=cat) for cat in [\"users\", \"items\"]}"
   ]
  },
  {
   "cell_type": "code",
   "execution_count": 13,
   "metadata": {
    "collapsed": true
   },
   "outputs": [],
   "source": [
    "r_matrix = np.zeros(shape=(n_users, n_items), dtype=float)\n",
    "for user, item, rank in df_train.values:\n",
    "    r_matrix[user, item] = rank\n",
    "    \n",
    "G_matrix = (r_matrix > 0).astype(float)\n",
    "G_matrix += (G_matrix == 0).astype(float) * 0.01\n",
    "\n",
    "for user, group in df_grouped[\"users\"]:\n",
    "    mask = r_matrix[user, :] == 0\n",
    "    r_matrix[user, mask] = group[\"rank\"].mean()"
   ]
  },
  {
   "cell_type": "code",
   "execution_count": 14,
   "metadata": {
    "collapsed": true
   },
   "outputs": [],
   "source": [
    "results = dict()"
   ]
  },
  {
   "cell_type": "code",
   "execution_count": 36,
   "metadata": {
    "collapsed": false
   },
   "outputs": [],
   "source": [
    "C = 5.0\n",
    "n_features = 2\n",
    "alpha = 0.13"
   ]
  },
  {
   "cell_type": "code",
   "execution_count": 37,
   "metadata": {
    "collapsed": false
   },
   "outputs": [
    {
     "name": "stdout",
     "output_type": "stream",
     "text": [
      "100 of 100 iters passed...\n"
     ]
    }
   ],
   "source": [
    "weights = dict()\n",
    "weights[\"users\"] = np.random.normal(loc=0.0, scale=0.01, size=(n_users, n_features))\n",
    "weights[\"items\"] = np.random.normal(loc=0.0, scale=0.01, size=(n_items, n_features))\n",
    "\n",
    "bias = dict()\n",
    "bias[\"users\"] = np.random.normal(loc=0.0, scale=0.01, size=(n_users, ))\n",
    "bias[\"items\"] = np.random.normal(loc=0.0, scale=0.01, size=(n_items, ))\n",
    "    \n",
    "scores = []\n",
    "    \n",
    "n_iters = 100\n",
    "\n",
    "for i in range(n_iters):\n",
    "    weigths, bias = iter_step(weights, bias, C, alpha)\n",
    "            \n",
    "    matrix = bias[\"users\"].reshape(-1, 1) + bias[\"items\"].reshape(1, -1) \\\n",
    "            + np.dot(weights[\"users\"], weights[\"items\"].T)\n",
    "    scores.append(\n",
    "        (score(matrix, df_train.values),\n",
    "         score(matrix, df_valid.values))\n",
    "    )\n",
    "        \n",
    "    print \"\\r{} of {} iters passed...\".format(i + 1, n_iters),"
   ]
  },
  {
   "cell_type": "code",
   "execution_count": 38,
   "metadata": {
    "collapsed": false
   },
   "outputs": [
    {
     "data": {
      "image/png": "[encoded data removed]",
      "text/plain": [
       "<matplotlib.figure.Figure at 0x7f7cdf3ad450>"
      ]
     },
     "metadata": {},
     "output_type": "display_data"
    }
   ],
   "source": [
    "offset = 0\n",
    "\n",
    "plt.figure(figsize=(7, 7))\n",
    "plt.plot(range(offset+1, len(scores)+1), map(operator.itemgetter(0), scores)[offset:], label=\"train\")\n",
    "plt.plot(range(offset+1, len(scores)+1), map(operator.itemgetter(1), scores)[offset:], label=\"valid\")\n",
    "plt.legend()\n",
    "plt.grid()"
   ]
  },
  {
   "cell_type": "code",
   "execution_count": 39,
   "metadata": {
    "collapsed": false
   },
   "outputs": [
    {
     "data": {
      "text/plain": [
       "array([69, 70, 68, 71, 72, 67, 73, 74, 75, 76, 66, 77, 78, 79, 80, 81, 99,\n",
       "       98, 97, 82, 96, 95, 83, 94, 93, 84, 92, 91, 85, 90, 86, 89, 87, 88,\n",
       "       65, 64, 63, 62, 61, 60, 59, 58, 57, 56, 55, 54, 53, 52, 51, 50, 49,\n",
       "       48, 15, 14, 16, 13, 17, 12, 47, 18, 19, 11, 46, 20, 21, 45, 10, 22,\n",
       "       44, 23, 24, 43,  9, 25, 42, 26, 41, 27, 28, 40, 29, 39, 30,  8, 38,\n",
       "       31, 37, 32, 36, 33, 35, 34,  7,  6,  5,  4,  3,  2,  1,  0])"
      ]
     },
     "execution_count": 39,
     "metadata": {},
     "output_type": "execute_result"
    }
   ],
   "source": [
    "np.argsort(map(operator.itemgetter(1), scores))"
   ]
  },
  {
   "cell_type": "code",
   "execution_count": 40,
   "metadata": {
    "collapsed": false
   },
   "outputs": [
    {
     "data": {
      "text/plain": [
       "0.8342771620361864"
      ]
     },
     "execution_count": 40,
     "metadata": {},
     "output_type": "execute_result"
    }
   ],
   "source": [
    "np.min(map(operator.itemgetter(1), scores))"
   ]
  },
  {
   "cell_type": "code",
   "execution_count": 41,
   "metadata": {
    "collapsed": true
   },
   "outputs": [],
   "source": [
    "a = map(operator.itemgetter(1), scores)\n",
    "results[(C, n_features, alpha)] = (np.argmin(a), np.min(a))"
   ]
  },
  {
   "cell_type": "code",
   "execution_count": 42,
   "metadata": {
    "collapsed": false
   },
   "outputs": [
    {
     "data": {
      "text/plain": [
       "{(5.0, 2, 0.13): (69, 0.8342771620361864),\n",
       " (5.0, 4, 0.13): (96, 0.82848907802864247),\n",
       " (5.0, 4, 0.14): (76, 0.8293373724212002),\n",
       " (5.0, 4, 0.15): (24, 0.83359095433689323)}"
      ]
     },
     "execution_count": 42,
     "metadata": {},
     "output_type": "execute_result"
    }
   ],
   "source": [
    "results"
   ]
  },
  {
   "cell_type": "code",
   "execution_count": null,
   "metadata": {
    "collapsed": true
   },
   "outputs": [],
   "source": []
  }
 ],
 "metadata": {
  "kernelspec": {
   "display_name": "Python 2",
   "language": "python",
   "name": "python2"
  },
  "language_info": {
   "codemirror_mode": {
    "name": "ipython",
    "version": 2
   },
   "file_extension": ".py",
   "mimetype": "text/x-python",
   "name": "python",
   "nbconvert_exporter": "python",
   "pygments_lexer": "ipython2",
   "version": "2.7.12"
  }
 },
 "nbformat": 4,
 "nbformat_minor": 0
}
