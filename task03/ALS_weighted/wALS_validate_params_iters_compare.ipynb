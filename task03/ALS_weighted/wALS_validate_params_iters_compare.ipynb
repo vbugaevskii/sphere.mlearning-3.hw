{
 "cells": [
  {
   "cell_type": "code",
   "execution_count": 1,
   "metadata": {
    "collapsed": true
   },
   "outputs": [],
   "source": [
    "import numpy as np\n",
    "import pandas as pd"
   ]
  },
  {
   "cell_type": "code",
   "execution_count": 2,
   "metadata": {
    "collapsed": false
   },
   "outputs": [],
   "source": [
    "import operator\n",
    "\n",
    "from copy import copy"
   ]
  },
  {
   "cell_type": "code",
   "execution_count": 3,
   "metadata": {
    "collapsed": true
   },
   "outputs": [],
   "source": [
    "from sklearn.metrics import mean_squared_error"
   ]
  },
  {
   "cell_type": "code",
   "execution_count": 4,
   "metadata": {
    "collapsed": true
   },
   "outputs": [],
   "source": [
    "import matplotlib.pyplot as plt\n",
    "\n",
    "%matplotlib inline"
   ]
  },
  {
   "cell_type": "code",
   "execution_count": 5,
   "metadata": {
    "collapsed": false
   },
   "outputs": [
    {
     "data": {
      "text/html": [
       "<div>\n",
       "<table border=\"1\" class=\"dataframe\">\n",
       "  <thead>\n",
       "    <tr style=\"text-align: right;\">\n",
       "      <th></th>\n",
       "      <th>users</th>\n",
       "      <th>items</th>\n",
       "      <th>rank</th>\n",
       "    </tr>\n",
       "  </thead>\n",
       "  <tbody>\n",
       "    <tr>\n",
       "      <th>0</th>\n",
       "      <td>1</td>\n",
       "      <td>1</td>\n",
       "      <td>5</td>\n",
       "    </tr>\n",
       "    <tr>\n",
       "      <th>1</th>\n",
       "      <td>1</td>\n",
       "      <td>2</td>\n",
       "      <td>3</td>\n",
       "    </tr>\n",
       "    <tr>\n",
       "      <th>2</th>\n",
       "      <td>1</td>\n",
       "      <td>3</td>\n",
       "      <td>4</td>\n",
       "    </tr>\n",
       "    <tr>\n",
       "      <th>3</th>\n",
       "      <td>1</td>\n",
       "      <td>4</td>\n",
       "      <td>3</td>\n",
       "    </tr>\n",
       "    <tr>\n",
       "      <th>4</th>\n",
       "      <td>1</td>\n",
       "      <td>5</td>\n",
       "      <td>3</td>\n",
       "    </tr>\n",
       "  </tbody>\n",
       "</table>\n",
       "</div>"
      ],
      "text/plain": [
       "   users  items  rank\n",
       "0      1      1     5\n",
       "1      1      2     3\n",
       "2      1      3     4\n",
       "3      1      4     3\n",
       "4      1      5     3"
      ]
     },
     "execution_count": 5,
     "metadata": {},
     "output_type": "execute_result"
    }
   ],
   "source": [
    "df = pd.read_csv(\"../data/train.txt\", sep='\\t', header=None, names=[\"users\", \"items\", \"rank\"])\n",
    "df.head()"
   ]
  },
  {
   "cell_type": "code",
   "execution_count": 6,
   "metadata": {
    "collapsed": false
   },
   "outputs": [
    {
     "data": {
      "text/plain": [
       "array([5, 3, 4, 1, 2])"
      ]
     },
     "execution_count": 6,
     "metadata": {},
     "output_type": "execute_result"
    }
   ],
   "source": [
    "df[\"rank\"].unique()"
   ]
  },
  {
   "cell_type": "code",
   "execution_count": 7,
   "metadata": {
    "collapsed": false
   },
   "outputs": [],
   "source": [
    "n_users = df[\"users\"].max()\n",
    "n_items = df[\"items\"].max()"
   ]
  },
  {
   "cell_type": "code",
   "execution_count": 8,
   "metadata": {
    "collapsed": false
   },
   "outputs": [
    {
     "data": {
      "text/html": [
       "<div>\n",
       "<table border=\"1\" class=\"dataframe\">\n",
       "  <thead>\n",
       "    <tr style=\"text-align: right;\">\n",
       "      <th></th>\n",
       "      <th>users</th>\n",
       "      <th>items</th>\n",
       "      <th>rank</th>\n",
       "    </tr>\n",
       "  </thead>\n",
       "  <tbody>\n",
       "    <tr>\n",
       "      <th>0</th>\n",
       "      <td>0</td>\n",
       "      <td>0</td>\n",
       "      <td>5</td>\n",
       "    </tr>\n",
       "    <tr>\n",
       "      <th>1</th>\n",
       "      <td>0</td>\n",
       "      <td>1</td>\n",
       "      <td>3</td>\n",
       "    </tr>\n",
       "    <tr>\n",
       "      <th>2</th>\n",
       "      <td>0</td>\n",
       "      <td>2</td>\n",
       "      <td>4</td>\n",
       "    </tr>\n",
       "    <tr>\n",
       "      <th>3</th>\n",
       "      <td>0</td>\n",
       "      <td>3</td>\n",
       "      <td>3</td>\n",
       "    </tr>\n",
       "    <tr>\n",
       "      <th>4</th>\n",
       "      <td>0</td>\n",
       "      <td>4</td>\n",
       "      <td>3</td>\n",
       "    </tr>\n",
       "  </tbody>\n",
       "</table>\n",
       "</div>"
      ],
      "text/plain": [
       "   users  items  rank\n",
       "0      0      0     5\n",
       "1      0      1     3\n",
       "2      0      2     4\n",
       "3      0      3     3\n",
       "4      0      4     3"
      ]
     },
     "execution_count": 8,
     "metadata": {},
     "output_type": "execute_result"
    }
   ],
   "source": [
    "df[[\"users\", \"items\"]] -= 1\n",
    "df.head()"
   ]
  },
  {
   "cell_type": "code",
   "execution_count": 9,
   "metadata": {
    "collapsed": true
   },
   "outputs": [],
   "source": [
    "def score(matrix, values):\n",
    "    y_pred = [matrix[user, item] for user, item, rank in values]\n",
    "    y_true = map(operator.itemgetter(2), values)\n",
    "    return mean_squared_error(y_true, y_pred)"
   ]
  },
  {
   "cell_type": "code",
   "execution_count": 10,
   "metadata": {
    "collapsed": true
   },
   "outputs": [],
   "source": [
    "def iter_step(weights, bias, df_grouped, C, alpha):\n",
    "    weights_, bias_ = copy(weights), copy(bias)\n",
    "    func = lambda x, alpha: np.diag(1.0 + alpha * r)\n",
    "    func = lambda x, alpah: np.diag(1.0 + alpha * np.log(1.0 + r))\n",
    "    \n",
    "    for user, group in df_grouped[\"users\"]:\n",
    "        index = group[\"items\"].values\n",
    "        \n",
    "        Q = weights_[\"items\"][index]\n",
    "        Q = np.hstack((np.ones(shape=(len(index), 1), dtype=float), Q))\n",
    "        r = group[\"rank\"].values - bias_[\"items\"][index]\n",
    "        G = np.diag(1.0 + alpha * r)\n",
    "        \n",
    "        A = np.dot(Q.T, np.dot(G, Q)) + C * np.eye(Q.shape[1])\n",
    "        b = np.dot(Q.T, np.dot(G, r))\n",
    "        \n",
    "        solution = np.linalg.solve(A, b)\n",
    "        weights_[\"users\"][user], bias_[\"users\"][user] = solution[1:], solution[0] \n",
    "    \n",
    "    for item, group in df_grouped[\"items\"]:\n",
    "        index = group[\"users\"].values\n",
    "        \n",
    "        P = weights_[\"users\"][index]\n",
    "        P = np.hstack((np.ones(shape=(len(index), 1), dtype=float), P))\n",
    "        r = group[\"rank\"].values - bias_[\"users\"][index]\n",
    "        G = np.diag(1.0 + alpha * r)\n",
    "        \n",
    "        A = np.dot(P.T, np.dot(G, P)) + C * np.eye(P.shape[1])\n",
    "        b = np.dot(P.T, np.dot(G, r))\n",
    "        \n",
    "        solution = np.linalg.solve(A, b)\n",
    "        weights_[\"items\"][item], bias_[\"items\"][item] = solution[1:], solution[0]\n",
    "        \n",
    "    return weights_, bias_"
   ]
  },
  {
   "cell_type": "code",
   "execution_count": 11,
   "metadata": {
    "collapsed": true
   },
   "outputs": [],
   "source": [
    "index = np.random.permutation(df.shape[0])\n",
    "beta = int(0.8 * len(index))\n",
    "\n",
    "df_train, df_valid = df.iloc[index[:beta]], df.iloc[index[beta:]]"
   ]
  },
  {
   "cell_type": "code",
   "execution_count": 12,
   "metadata": {
    "collapsed": true
   },
   "outputs": [],
   "source": [
    "df_grouped = {cat : df_train.groupby(by=cat) for cat in [\"users\", \"items\"]}"
   ]
  },
  {
   "cell_type": "code",
   "execution_count": 13,
   "metadata": {
    "collapsed": true
   },
   "outputs": [],
   "source": [
    "results = dict()"
   ]
  },
  {
   "cell_type": "code",
   "execution_count": 49,
   "metadata": {
    "collapsed": false
   },
   "outputs": [],
   "source": [
    "C = 5.0\n",
    "n_features = 2\n",
    "alpha = 0.17"
   ]
  },
  {
   "cell_type": "code",
   "execution_count": 50,
   "metadata": {
    "collapsed": false
   },
   "outputs": [
    {
     "name": "stdout",
     "output_type": "stream",
     "text": [
      "60 of 60 iters passed...\n"
     ]
    }
   ],
   "source": [
    "weights = dict()\n",
    "weights[\"users\"] = np.random.normal(loc=0.0, scale=0.01, size=(n_users, n_features))\n",
    "weights[\"items\"] = np.random.normal(loc=0.0, scale=0.01, size=(n_items, n_features))\n",
    "\n",
    "bias = dict()\n",
    "bias[\"users\"] = np.random.normal(loc=0.0, scale=0.01, size=(n_users, ))\n",
    "bias[\"items\"] = np.random.normal(loc=0.0, scale=0.01, size=(n_items, ))\n",
    "    \n",
    "scores = []\n",
    "    \n",
    "n_iters = 60\n",
    "\n",
    "for i in range(n_iters):\n",
    "    weigths, bias = iter_step(weights, bias, df_grouped, C, alpha)\n",
    "            \n",
    "    matrix = bias[\"users\"].reshape(-1, 1) + bias[\"items\"].reshape(1, -1) \\\n",
    "            + np.dot(weights[\"users\"], weights[\"items\"].T)\n",
    "    scores.append(\n",
    "        (score(matrix, df_train.values),\n",
    "         score(matrix, df_valid.values))\n",
    "    )\n",
    "        \n",
    "    print \"\\r{} of {} iters passed...\".format(i + 1, n_iters),"
   ]
  },
  {
   "cell_type": "code",
   "execution_count": 51,
   "metadata": {
    "collapsed": false
   },
   "outputs": [
    {
     "data": {
      "image/png": "[encoded data removed]",
      "text/plain": [
       "<matplotlib.figure.Figure at 0x7f58944c1750>"
      ]
     },
     "metadata": {},
     "output_type": "display_data"
    }
   ],
   "source": [
    "offset = 0\n",
    "\n",
    "plt.figure(figsize=(7, 7))\n",
    "plt.plot(range(offset+1, len(scores)+1), map(operator.itemgetter(0), scores)[offset:], label=\"train\")\n",
    "plt.plot(range(offset+1, len(scores)+1), map(operator.itemgetter(1), scores)[offset:], label=\"valid\")\n",
    "plt.legend()\n",
    "plt.grid()"
   ]
  },
  {
   "cell_type": "code",
   "execution_count": 52,
   "metadata": {
    "collapsed": false
   },
   "outputs": [
    {
     "data": {
      "text/plain": [
       "array([43, 42, 44, 45, 41, 46, 40, 47, 48, 49, 39, 50, 51, 52, 38, 53, 54,\n",
       "       55, 56, 57, 37, 58, 59, 36, 35, 34, 33, 32, 31, 30, 29, 28, 27, 26,\n",
       "       25, 24, 23, 22, 21, 20, 19, 18, 17, 16, 15, 14, 13, 12, 11, 10,  9,\n",
       "        8,  7,  6,  5,  4,  3,  2,  1,  0])"
      ]
     },
     "execution_count": 52,
     "metadata": {},
     "output_type": "execute_result"
    }
   ],
   "source": [
    "np.argsort(map(operator.itemgetter(1), scores))"
   ]
  },
  {
   "cell_type": "code",
   "execution_count": 53,
   "metadata": {
    "collapsed": false
   },
   "outputs": [
    {
     "data": {
      "text/plain": [
       "0.86765800159563067"
      ]
     },
     "execution_count": 53,
     "metadata": {},
     "output_type": "execute_result"
    }
   ],
   "source": [
    "np.min(map(operator.itemgetter(1), scores))"
   ]
  },
  {
   "cell_type": "code",
   "execution_count": 54,
   "metadata": {
    "collapsed": true
   },
   "outputs": [],
   "source": [
    "a = map(operator.itemgetter(1), scores)\n",
    "results[(C, n_features, alpha)] = (np.argmin(a), np.min(a))"
   ]
  },
  {
   "cell_type": "code",
   "execution_count": 55,
   "metadata": {
    "collapsed": false
   },
   "outputs": [
    {
     "data": {
      "text/plain": [
       "{(5.0, 2, 0.12): (59, 0.87047418559981071),\n",
       " (5.0, 2, 0.13): (59, 0.86813928373130445),\n",
       " (5.0, 2, 0.14): (59, 0.86821602744669668),\n",
       " (5.0, 2, 0.15): (54, 0.86759204110077714),\n",
       " (5.0, 2, 0.16): (44, 0.86737137561840527),\n",
       " (5.0, 2, 0.17): (43, 0.86765800159563067)}"
      ]
     },
     "execution_count": 55,
     "metadata": {},
     "output_type": "execute_result"
    }
   ],
   "source": [
    "results"
   ]
  },
  {
   "cell_type": "code",
   "execution_count": null,
   "metadata": {
    "collapsed": true
   },
   "outputs": [],
   "source": []
  }
 ],
 "metadata": {
  "kernelspec": {
   "display_name": "Python 2",
   "language": "python",
   "name": "python2"
  },
  "language_info": {
   "codemirror_mode": {
    "name": "ipython",
    "version": 2
   },
   "file_extension": ".py",
   "mimetype": "text/x-python",
   "name": "python",
   "nbconvert_exporter": "python",
   "pygments_lexer": "ipython2",
   "version": "2.7.12"
  }
 },
 "nbformat": 4,
 "nbformat_minor": 0
}
