{
 "cells": [
  {
   "cell_type": "code",
   "execution_count": 1,
   "metadata": {
    "collapsed": true
   },
   "outputs": [],
   "source": [
    "import numpy as np\n",
    "import pandas as pd"
   ]
  },
  {
   "cell_type": "code",
   "execution_count": 2,
   "metadata": {
    "collapsed": false
   },
   "outputs": [],
   "source": [
    "import operator\n",
    "\n",
    "from copy import copy"
   ]
  },
  {
   "cell_type": "code",
   "execution_count": 3,
   "metadata": {
    "collapsed": true
   },
   "outputs": [],
   "source": [
    "from sklearn.metrics import mean_squared_error"
   ]
  },
  {
   "cell_type": "code",
   "execution_count": 4,
   "metadata": {
    "collapsed": true
   },
   "outputs": [],
   "source": [
    "import matplotlib.pyplot as plt\n",
    "\n",
    "%matplotlib inline"
   ]
  },
  {
   "cell_type": "code",
   "execution_count": 5,
   "metadata": {
    "collapsed": false
   },
   "outputs": [
    {
     "data": {
      "text/html": [
       "<div>\n",
       "<table border=\"1\" class=\"dataframe\">\n",
       "  <thead>\n",
       "    <tr style=\"text-align: right;\">\n",
       "      <th></th>\n",
       "      <th>users</th>\n",
       "      <th>items</th>\n",
       "      <th>rank</th>\n",
       "    </tr>\n",
       "  </thead>\n",
       "  <tbody>\n",
       "    <tr>\n",
       "      <th>0</th>\n",
       "      <td>1</td>\n",
       "      <td>1</td>\n",
       "      <td>5</td>\n",
       "    </tr>\n",
       "    <tr>\n",
       "      <th>1</th>\n",
       "      <td>1</td>\n",
       "      <td>2</td>\n",
       "      <td>3</td>\n",
       "    </tr>\n",
       "    <tr>\n",
       "      <th>2</th>\n",
       "      <td>1</td>\n",
       "      <td>3</td>\n",
       "      <td>4</td>\n",
       "    </tr>\n",
       "    <tr>\n",
       "      <th>3</th>\n",
       "      <td>1</td>\n",
       "      <td>4</td>\n",
       "      <td>3</td>\n",
       "    </tr>\n",
       "    <tr>\n",
       "      <th>4</th>\n",
       "      <td>1</td>\n",
       "      <td>5</td>\n",
       "      <td>3</td>\n",
       "    </tr>\n",
       "  </tbody>\n",
       "</table>\n",
       "</div>"
      ],
      "text/plain": [
       "   users  items  rank\n",
       "0      1      1     5\n",
       "1      1      2     3\n",
       "2      1      3     4\n",
       "3      1      4     3\n",
       "4      1      5     3"
      ]
     },
     "execution_count": 5,
     "metadata": {},
     "output_type": "execute_result"
    }
   ],
   "source": [
    "df = pd.read_csv(\"../data/train.txt\", sep='\\t', header=None, names=[\"users\", \"items\", \"rank\"])\n",
    "df.head()"
   ]
  },
  {
   "cell_type": "code",
   "execution_count": 6,
   "metadata": {
    "collapsed": false
   },
   "outputs": [
    {
     "data": {
      "text/plain": [
       "array([5, 3, 4, 1, 2])"
      ]
     },
     "execution_count": 6,
     "metadata": {},
     "output_type": "execute_result"
    }
   ],
   "source": [
    "df[\"rank\"].unique()"
   ]
  },
  {
   "cell_type": "code",
   "execution_count": 7,
   "metadata": {
    "collapsed": false
   },
   "outputs": [],
   "source": [
    "n_users = df[\"users\"].max()\n",
    "n_items = df[\"items\"].max()"
   ]
  },
  {
   "cell_type": "code",
   "execution_count": 8,
   "metadata": {
    "collapsed": false
   },
   "outputs": [
    {
     "data": {
      "text/html": [
       "<div>\n",
       "<table border=\"1\" class=\"dataframe\">\n",
       "  <thead>\n",
       "    <tr style=\"text-align: right;\">\n",
       "      <th></th>\n",
       "      <th>users</th>\n",
       "      <th>items</th>\n",
       "      <th>rank</th>\n",
       "    </tr>\n",
       "  </thead>\n",
       "  <tbody>\n",
       "    <tr>\n",
       "      <th>0</th>\n",
       "      <td>0</td>\n",
       "      <td>0</td>\n",
       "      <td>5</td>\n",
       "    </tr>\n",
       "    <tr>\n",
       "      <th>1</th>\n",
       "      <td>0</td>\n",
       "      <td>1</td>\n",
       "      <td>3</td>\n",
       "    </tr>\n",
       "    <tr>\n",
       "      <th>2</th>\n",
       "      <td>0</td>\n",
       "      <td>2</td>\n",
       "      <td>4</td>\n",
       "    </tr>\n",
       "    <tr>\n",
       "      <th>3</th>\n",
       "      <td>0</td>\n",
       "      <td>3</td>\n",
       "      <td>3</td>\n",
       "    </tr>\n",
       "    <tr>\n",
       "      <th>4</th>\n",
       "      <td>0</td>\n",
       "      <td>4</td>\n",
       "      <td>3</td>\n",
       "    </tr>\n",
       "  </tbody>\n",
       "</table>\n",
       "</div>"
      ],
      "text/plain": [
       "   users  items  rank\n",
       "0      0      0     5\n",
       "1      0      1     3\n",
       "2      0      2     4\n",
       "3      0      3     3\n",
       "4      0      4     3"
      ]
     },
     "execution_count": 8,
     "metadata": {},
     "output_type": "execute_result"
    }
   ],
   "source": [
    "df[[\"users\", \"items\"]] -= 1\n",
    "df.head()"
   ]
  },
  {
   "cell_type": "code",
   "execution_count": 9,
   "metadata": {
    "collapsed": true
   },
   "outputs": [],
   "source": [
    "def score(matrix, values):\n",
    "    y_pred = [matrix[user, item] for user, item, rank in values]\n",
    "    y_true = map(operator.itemgetter(2), values)\n",
    "    return mean_squared_error(y_true, y_pred)"
   ]
  },
  {
   "cell_type": "code",
   "execution_count": 10,
   "metadata": {
    "collapsed": true
   },
   "outputs": [],
   "source": [
    "def iter_step(weights, bias, df_grouped, C):\n",
    "    weights_, bias_ = copy(weights), copy(bias)\n",
    "    \n",
    "    for user, group in df_grouped[\"users\"]:\n",
    "        index = group[\"items\"].values\n",
    "        \n",
    "        Q = weights_[\"items\"][index]\n",
    "        Q = np.hstack((np.ones(shape=(len(index), 1), dtype=float), Q))\n",
    "        r = group[\"rank\"].values - bias_[\"items\"][index]\n",
    "        \n",
    "        A = np.dot(Q.T, Q) + C * np.eye(Q.shape[1])\n",
    "        b = np.dot(Q.T, r)\n",
    "        \n",
    "        solution = np.linalg.solve(A, b)\n",
    "        weights_[\"users\"][user], bias_[\"users\"][user] = solution[1:], solution[0] \n",
    "    \n",
    "    for item, group in df_grouped[\"items\"]:\n",
    "        index = group[\"users\"].values\n",
    "        \n",
    "        P = weights_[\"users\"][index]\n",
    "        P = np.hstack((np.ones(shape=(len(index), 1), dtype=float), P))\n",
    "        r = group[\"rank\"].values - bias_[\"users\"][index]\n",
    "        \n",
    "        A = np.dot(P.T, P) + C * np.eye(P.shape[1])\n",
    "        b = np.dot(P.T, r)\n",
    "        \n",
    "        solution = np.linalg.solve(A, b)\n",
    "        weights_[\"items\"][item], bias_[\"items\"][item] = solution[1:], solution[0]\n",
    "        \n",
    "    return weights_, bias_"
   ]
  },
  {
   "cell_type": "code",
   "execution_count": 11,
   "metadata": {
    "collapsed": false
   },
   "outputs": [],
   "source": [
    "C = 5\n",
    "n_features = 4"
   ]
  },
  {
   "cell_type": "code",
   "execution_count": 12,
   "metadata": {
    "collapsed": false
   },
   "outputs": [
    {
     "name": "stdout",
     "output_type": "stream",
     "text": [
      "24 0.86722 0.86935\n",
      "23 0.84514 0.84530\n",
      "24 0.87311 0.87543\n",
      "21 0.86042 0.86446\n",
      "23 0.87399 0.87802\n",
      "20 0.88285 0.88840\n",
      "40 0.87436 0.87502\n",
      "30 0.86174 0.86343\n",
      "50 0.87140 0.87140\n",
      "23 0.88132 0.88437\n",
      "17 0.86002 0.86823\n",
      "19 0.86575 0.86755\n",
      "22 0.87182 0.87375\n",
      "29 0.85921 0.85933\n",
      "48 0.86909 0.86909\n",
      "50 0.86861 0.86861\n",
      "22 0.85225 0.85623\n",
      "23 0.87540 0.87951\n",
      "19 0.86220 0.86643\n",
      "17 0.87035 0.87442\n"
     ]
    },
    {
     "data": {
      "text/plain": [
       "27.199999999999999"
      ]
     },
     "execution_count": 12,
     "metadata": {},
     "output_type": "execute_result"
    }
   ],
   "source": [
    "b = []\n",
    "\n",
    "for j in range(20):\n",
    "    index = np.random.permutation(df.shape[0])\n",
    "    alpha = int(0.8 * len(index))\n",
    "\n",
    "    df_train, df_valid = df.iloc[index[:alpha]], df.iloc[index[alpha:]]\n",
    "    \n",
    "    df_grouped = {cat : df_train.groupby(by=cat) for cat in [\"users\", \"items\"]}\n",
    "    \n",
    "    weights = dict()\n",
    "    weights[\"users\"] = np.random.normal(loc=0.0, scale=0.01, size=(n_users, n_features))\n",
    "    weights[\"items\"] = np.random.normal(loc=0.0, scale=0.01, size=(n_items, n_features))\n",
    "    \n",
    "    bias = dict()\n",
    "    bias[\"users\"] = np.random.normal(loc=0.0, scale=0.01, size=(n_users, ))\n",
    "    bias[\"items\"] = np.random.normal(loc=0.0, scale=0.01, size=(n_items, ))\n",
    "    \n",
    "    scores = []\n",
    "    \n",
    "    n_iters = 50\n",
    "\n",
    "    for i in range(n_iters):\n",
    "        weigths, bias = iter_step(weights, bias, df_grouped, C)\n",
    "            \n",
    "        matrix = bias[\"users\"].reshape(-1, 1) + bias[\"items\"].reshape(1, -1) \\\n",
    "            + np.dot(weights[\"users\"], weights[\"items\"].T)\n",
    "        scores.append(\n",
    "            (score(matrix, df_train.values),\n",
    "             score(matrix, df_valid.values))\n",
    "        )\n",
    "        \n",
    "        print \"\\r{}: {} of {} iters passed...\".format(j, i + 1, n_iters),\n",
    "        \n",
    "    a = map(operator.itemgetter(1), scores)\n",
    "    print \"\\r{:>02} {:>7.5f} {:>7.5f}\".format(np.argmin(a) + 1, np.min(a), a[-1])\n",
    "    \n",
    "    b.append(np.argmin(a) + 1)\n",
    "np.mean(b)"
   ]
  },
  {
   "cell_type": "code",
   "execution_count": 13,
   "metadata": {
    "collapsed": false
   },
   "outputs": [
    {
     "data": {
      "image/png": "[encoded data removed]",
      "text/plain": [
       "<matplotlib.figure.Figure at 0x7fad65a9f1d0>"
      ]
     },
     "metadata": {},
     "output_type": "display_data"
    }
   ],
   "source": [
    "offset = 2\n",
    "\n",
    "plt.figure(figsize=(7, 7))\n",
    "plt.plot(range(offset+1, len(scores)+1), map(operator.itemgetter(0), scores)[offset:], label=\"train\")\n",
    "plt.plot(range(offset+1, len(scores)+1), map(operator.itemgetter(1), scores)[offset:], label=\"valid\")\n",
    "plt.legend()\n",
    "plt.grid()"
   ]
  },
  {
   "cell_type": "code",
   "execution_count": 14,
   "metadata": {
    "collapsed": false
   },
   "outputs": [],
   "source": [
    "# np.argsort(map(operator.itemgetter(1), scores))"
   ]
  },
  {
   "cell_type": "code",
   "execution_count": 15,
   "metadata": {
    "collapsed": false
   },
   "outputs": [],
   "source": [
    "# np.min(map(operator.itemgetter(1), scores))"
   ]
  },
  {
   "cell_type": "code",
   "execution_count": null,
   "metadata": {
    "collapsed": true
   },
   "outputs": [],
   "source": []
  }
 ],
 "metadata": {
  "kernelspec": {
   "display_name": "Python 2",
   "language": "python",
   "name": "python2"
  },
  "language_info": {
   "codemirror_mode": {
    "name": "ipython",
    "version": 2
   },
   "file_extension": ".py",
   "mimetype": "text/x-python",
   "name": "python",
   "nbconvert_exporter": "python",
   "pygments_lexer": "ipython2",
   "version": "2.7.12"
  }
 },
 "nbformat": 4,
 "nbformat_minor": 0
}
