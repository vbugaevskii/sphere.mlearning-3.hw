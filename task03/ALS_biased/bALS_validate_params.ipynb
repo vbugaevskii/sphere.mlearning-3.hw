{
 "cells": [
  {
   "cell_type": "code",
   "execution_count": 1,
   "metadata": {
    "collapsed": true
   },
   "outputs": [],
   "source": [
    "import numpy as np\n",
    "import pandas as pd"
   ]
  },
  {
   "cell_type": "code",
   "execution_count": 2,
   "metadata": {
    "collapsed": false
   },
   "outputs": [],
   "source": [
    "import operator\n",
    "\n",
    "from copy import copy"
   ]
  },
  {
   "cell_type": "code",
   "execution_count": 3,
   "metadata": {
    "collapsed": true
   },
   "outputs": [],
   "source": [
    "from sklearn.metrics import mean_squared_error"
   ]
  },
  {
   "cell_type": "code",
   "execution_count": 4,
   "metadata": {
    "collapsed": false
   },
   "outputs": [
    {
     "data": {
      "text/html": [
       "<div>\n",
       "<table border=\"1\" class=\"dataframe\">\n",
       "  <thead>\n",
       "    <tr style=\"text-align: right;\">\n",
       "      <th></th>\n",
       "      <th>users</th>\n",
       "      <th>items</th>\n",
       "      <th>rank</th>\n",
       "    </tr>\n",
       "  </thead>\n",
       "  <tbody>\n",
       "    <tr>\n",
       "      <th>0</th>\n",
       "      <td>1</td>\n",
       "      <td>1</td>\n",
       "      <td>5</td>\n",
       "    </tr>\n",
       "    <tr>\n",
       "      <th>1</th>\n",
       "      <td>1</td>\n",
       "      <td>2</td>\n",
       "      <td>3</td>\n",
       "    </tr>\n",
       "    <tr>\n",
       "      <th>2</th>\n",
       "      <td>1</td>\n",
       "      <td>3</td>\n",
       "      <td>4</td>\n",
       "    </tr>\n",
       "    <tr>\n",
       "      <th>3</th>\n",
       "      <td>1</td>\n",
       "      <td>4</td>\n",
       "      <td>3</td>\n",
       "    </tr>\n",
       "    <tr>\n",
       "      <th>4</th>\n",
       "      <td>1</td>\n",
       "      <td>5</td>\n",
       "      <td>3</td>\n",
       "    </tr>\n",
       "  </tbody>\n",
       "</table>\n",
       "</div>"
      ],
      "text/plain": [
       "   users  items  rank\n",
       "0      1      1     5\n",
       "1      1      2     3\n",
       "2      1      3     4\n",
       "3      1      4     3\n",
       "4      1      5     3"
      ]
     },
     "execution_count": 4,
     "metadata": {},
     "output_type": "execute_result"
    }
   ],
   "source": [
    "df = pd.read_csv(\"../data/train.txt\", sep='\\t', header=None, names=[\"users\", \"items\", \"rank\"])\n",
    "df.head()"
   ]
  },
  {
   "cell_type": "code",
   "execution_count": 5,
   "metadata": {
    "collapsed": false
   },
   "outputs": [
    {
     "data": {
      "text/plain": [
       "array([5, 3, 4, 1, 2])"
      ]
     },
     "execution_count": 5,
     "metadata": {},
     "output_type": "execute_result"
    }
   ],
   "source": [
    "df[\"rank\"].unique()"
   ]
  },
  {
   "cell_type": "code",
   "execution_count": 6,
   "metadata": {
    "collapsed": false
   },
   "outputs": [],
   "source": [
    "n_users = df[\"users\"].max()\n",
    "n_items = df[\"items\"].max()"
   ]
  },
  {
   "cell_type": "code",
   "execution_count": 7,
   "metadata": {
    "collapsed": false
   },
   "outputs": [
    {
     "data": {
      "text/html": [
       "<div>\n",
       "<table border=\"1\" class=\"dataframe\">\n",
       "  <thead>\n",
       "    <tr style=\"text-align: right;\">\n",
       "      <th></th>\n",
       "      <th>users</th>\n",
       "      <th>items</th>\n",
       "      <th>rank</th>\n",
       "    </tr>\n",
       "  </thead>\n",
       "  <tbody>\n",
       "    <tr>\n",
       "      <th>0</th>\n",
       "      <td>0</td>\n",
       "      <td>0</td>\n",
       "      <td>5</td>\n",
       "    </tr>\n",
       "    <tr>\n",
       "      <th>1</th>\n",
       "      <td>0</td>\n",
       "      <td>1</td>\n",
       "      <td>3</td>\n",
       "    </tr>\n",
       "    <tr>\n",
       "      <th>2</th>\n",
       "      <td>0</td>\n",
       "      <td>2</td>\n",
       "      <td>4</td>\n",
       "    </tr>\n",
       "    <tr>\n",
       "      <th>3</th>\n",
       "      <td>0</td>\n",
       "      <td>3</td>\n",
       "      <td>3</td>\n",
       "    </tr>\n",
       "    <tr>\n",
       "      <th>4</th>\n",
       "      <td>0</td>\n",
       "      <td>4</td>\n",
       "      <td>3</td>\n",
       "    </tr>\n",
       "  </tbody>\n",
       "</table>\n",
       "</div>"
      ],
      "text/plain": [
       "   users  items  rank\n",
       "0      0      0     5\n",
       "1      0      1     3\n",
       "2      0      2     4\n",
       "3      0      3     3\n",
       "4      0      4     3"
      ]
     },
     "execution_count": 7,
     "metadata": {},
     "output_type": "execute_result"
    }
   ],
   "source": [
    "df[[\"users\", \"items\"]] -= 1\n",
    "df.head()"
   ]
  },
  {
   "cell_type": "code",
   "execution_count": 8,
   "metadata": {
    "collapsed": true
   },
   "outputs": [],
   "source": [
    "def score(matrix, values):\n",
    "    y_pred = [matrix[user, item] for user, item, rank in values]\n",
    "    y_true = map(operator.itemgetter(2), values)\n",
    "    return mean_squared_error(y_true, y_pred)"
   ]
  },
  {
   "cell_type": "code",
   "execution_count": 9,
   "metadata": {
    "collapsed": false
   },
   "outputs": [],
   "source": [
    "def iter_step(weights, bias, df_grouped, C):\n",
    "    weights_, bias_ = copy(weights), copy(bias)\n",
    "    \n",
    "    for user, group in df_grouped[\"users\"]:\n",
    "        index = group[\"items\"].values\n",
    "        \n",
    "        Q = weights_[\"items\"][index]\n",
    "        Q = np.hstack((np.ones(shape=(len(index), 1), dtype=float), Q))\n",
    "        r = group[\"rank\"].values - bias_[\"items\"][index]\n",
    "        \n",
    "        A = np.dot(Q.T, Q) + C * np.eye(Q.shape[1])\n",
    "        b = np.dot(Q.T, r)\n",
    "        \n",
    "        solution = np.linalg.solve(A, b)\n",
    "        weights_[\"users\"][user], bias_[\"users\"][user] = solution[1:], solution[0] \n",
    "    \n",
    "    for item, group in df_grouped[\"items\"]:\n",
    "        index = group[\"users\"].values\n",
    "        \n",
    "        P = weights_[\"users\"][index]\n",
    "        P = np.hstack((np.ones(shape=(len(index), 1), dtype=float), P))\n",
    "        r = group[\"rank\"].values - bias_[\"users\"][index]\n",
    "        \n",
    "        A = np.dot(P.T, P) + C * np.eye(P.shape[1])\n",
    "        b = np.dot(P.T, r)\n",
    "        \n",
    "        solution = np.linalg.solve(A, b)\n",
    "        weights_[\"items\"][item], bias_[\"items\"][item] = solution[1:], solution[0]\n",
    "        \n",
    "    return weights_, bias_"
   ]
  },
  {
   "cell_type": "code",
   "execution_count": 10,
   "metadata": {
    "collapsed": true
   },
   "outputs": [],
   "source": [
    "index = np.random.permutation(df.shape[0])\n",
    "alpha = int(0.8 * len(index))\n",
    "\n",
    "df_train, df_valid = df.iloc[index[:alpha]], df.iloc[index[alpha:]]"
   ]
  },
  {
   "cell_type": "code",
   "execution_count": 11,
   "metadata": {
    "collapsed": false
   },
   "outputs": [],
   "source": [
    "df_grouped = {cat : df_train.groupby(by=cat) for cat in [\"users\", \"items\"]}"
   ]
  },
  {
   "cell_type": "code",
   "execution_count": 16,
   "metadata": {
    "collapsed": false
   },
   "outputs": [
    {
     "name": "stdout",
     "output_type": "stream",
     "text": [
      "[  1.00000000e-02   1.00000000e-01   1.00000000e+00   1.00000000e+01\n",
      "   1.00000000e+02]\n",
      "[5, 10, 15, 30, 50, 100]\n"
     ]
    }
   ],
   "source": [
    "C_range = np.power(10.0, np.arange(-2, 3))\n",
    "features_range = [5, 10, 15, 30, 50, 100]"
   ]
  },
  {
   "cell_type": "code",
   "execution_count": 13,
   "metadata": {
    "collapsed": false
   },
   "outputs": [
    {
     "name": "stdout",
     "output_type": "stream",
     "text": [
      "                  0.01        0.1        1.0       10.0      100.0\n",
      "train:    5    0.54061    0.53079    0.54662    0.72215    2.26989\n",
      "valid:    5    1.79758    1.30202    0.96363    0.90310    2.32198\n",
      "train:   10    0.38761    0.37861    0.40183    0.63300    2.26989\n",
      "valid:   10    2.49061    1.91308    1.16880    0.90813    2.32198\n",
      "train:   15    0.28554    0.27345    0.29726    0.57174    2.26989\n",
      "valid:   15    3.31811    2.23528    1.31672    0.91768    2.32199\n",
      "train:   30    0.10498    0.09367    0.11582    0.46683    2.26989\n",
      "valid:   30    3.71704    2.78308    1.65124    0.93212    2.32198\n",
      "train:   50    0.01888    0.01357    0.02945    0.40912    2.26989\n",
      "valid:   50    3.36446    2.77980    1.72317    0.92823    2.32197\n",
      "train:  100    0.00005    0.00007    0.00645    0.38320    2.26989\n",
      "valid:  100    1.77428    1.57048    1.17212    0.91852    2.32195\n"
     ]
    }
   ],
   "source": [
    "print \" \" * (len(\"\\rtrain: {:>4}\".format(0)) - 1),\n",
    "for C in C_range:\n",
    "    print \"{:>10}\".format(C),\n",
    "print\n",
    "\n",
    "for feature_i, n_features in enumerate(features_range):\n",
    "    weights = dict()\n",
    "    weights[\"users\"] = np.random.normal(loc=0.0, scale=0.01, size=(n_users, n_features))\n",
    "    weights[\"items\"] = np.random.normal(loc=0.0, scale=0.01, size=(n_items, n_features))\n",
    "    \n",
    "    bias = dict()\n",
    "    bias[\"users\"] = np.random.normal(loc=0.0, scale=0.01, size=(n_users, ))\n",
    "    bias[\"items\"] = np.random.normal(loc=0.0, scale=0.01, size=(n_items, ))\n",
    "    \n",
    "    weights_, bias_ = copy(weights), copy(bias)\n",
    "    scores = []\n",
    "    \n",
    "    for C_i, C in enumerate(C_range):\n",
    "        weights = copy(weights_)\n",
    "        bias = copy(bias_)\n",
    "        \n",
    "        for i in range(20):\n",
    "            weigths, bias = iter_step(weights, bias, df_grouped, C)\n",
    "            \n",
    "        matrix = bias[\"users\"].reshape(-1, 1) + bias[\"items\"].reshape(1, -1) \\\n",
    "            + np.dot(weights[\"users\"], weights[\"items\"].T)\n",
    "        scores.append(\n",
    "            (score(matrix, df_train.values),\n",
    "             score(matrix, df_valid.values))\n",
    "        )\n",
    "        \n",
    "        print \"\\r{} of {} iters passed...\".format(C_i + 1, len(C_range)),\n",
    "        \n",
    "    print \"\\rtrain: {:>4}\".format(n_features),\n",
    "    for scr in map(operator.itemgetter(0), scores):\n",
    "        print \"{:>10.5f}\".format(scr),\n",
    "    print\n",
    "    \n",
    "    print \"\\rvalid: {:>4}\".format(n_features),\n",
    "    for scr in map(operator.itemgetter(1), scores):\n",
    "        print \"{:>10.5f}\".format(scr),\n",
    "    print\n",
    "    "
   ]
  },
  {
   "cell_type": "code",
   "execution_count": 20,
   "metadata": {
    "collapsed": false
   },
   "outputs": [
    {
     "name": "stdout",
     "output_type": "stream",
     "text": [
      "\n"
     ]
    }
   ],
   "source": [
    "features_range = [150, 200]"
   ]
  },
  {
   "cell_type": "code",
   "execution_count": 21,
   "metadata": {
    "collapsed": false
   },
   "outputs": [
    {
     "name": "stdout",
     "output_type": "stream",
     "text": [
      "                  0.01        0.1        1.0       10.0      100.0\n",
      "train:  150    0.00000    0.00002    0.00538    0.38280    2.26989\n",
      "valid:  150    1.30675    1.23441    1.04093    0.91844    2.32198\n",
      "train:  200    0.00000    0.00002    0.00529    0.38281    2.26989\n",
      "valid:  200    1.15587    1.13891    1.02496    0.91844    2.32198\n"
     ]
    }
   ],
   "source": [
    "print \" \" * (len(\"\\rtrain: {:>4}\".format(0)) - 1),\n",
    "for C in C_range:\n",
    "    print \"{:>10}\".format(C),\n",
    "print\n",
    "\n",
    "for feature_i, n_features in enumerate(features_range):\n",
    "    weights = dict()\n",
    "    weights[\"users\"] = np.random.normal(loc=0.0, scale=0.01, size=(n_users, n_features))\n",
    "    weights[\"items\"] = np.random.normal(loc=0.0, scale=0.01, size=(n_items, n_features))\n",
    "    \n",
    "    bias = dict()\n",
    "    bias[\"users\"] = np.random.normal(loc=0.0, scale=0.01, size=(n_users, ))\n",
    "    bias[\"items\"] = np.random.normal(loc=0.0, scale=0.01, size=(n_items, ))\n",
    "    \n",
    "    weights_, bias_ = copy(weights), copy(bias)\n",
    "    scores = []\n",
    "    \n",
    "    for C_i, C in enumerate(C_range):\n",
    "        weights = copy(weights_)\n",
    "        bias = copy(bias_)\n",
    "        \n",
    "        for i in range(20):\n",
    "            weigths, bias = iter_step(weights, bias, df_grouped, C)\n",
    "            \n",
    "        matrix = bias[\"users\"].reshape(-1, 1) + bias[\"items\"].reshape(1, -1) \\\n",
    "            + np.dot(weights[\"users\"], weights[\"items\"].T)\n",
    "        scores.append(\n",
    "            (score(matrix, df_train.values),\n",
    "             score(matrix, df_valid.values))\n",
    "        )\n",
    "        \n",
    "        print \"\\r{} of {} iters passed...\".format(C_i + 1, len(C_range)),\n",
    "        \n",
    "    print \"\\rtrain: {:>4}\".format(n_features),\n",
    "    for scr in map(operator.itemgetter(0), scores):\n",
    "        print \"{:>10.5f}\".format(scr),\n",
    "    print\n",
    "    \n",
    "    print \"\\rvalid: {:>4}\".format(n_features),\n",
    "    for scr in map(operator.itemgetter(1), scores):\n",
    "        print \"{:>10.5f}\".format(scr),\n",
    "    print\n",
    "    "
   ]
  },
  {
   "cell_type": "code",
   "execution_count": 22,
   "metadata": {
    "collapsed": false
   },
   "outputs": [],
   "source": [
    "C_range = [1.0, 5.0, 10.0, 25.0, 50.0]\n",
    "features_range = range(3, 10)"
   ]
  },
  {
   "cell_type": "code",
   "execution_count": 23,
   "metadata": {
    "collapsed": false
   },
   "outputs": [
    {
     "name": "stdout",
     "output_type": "stream",
     "text": [
      "                   1.0        5.0       10.0       25.0       50.0\n",
      "train:    3    0.63364    0.69832    0.77893    1.02610    1.46227\n",
      "valid:    3    0.91217    0.87888    0.91705    1.11283    1.52057\n",
      "train:    4    0.58679    0.65921    0.74693    1.01947    1.46227\n",
      "valid:    4    0.92916    0.87004    0.90556    1.11032    1.52059\n",
      "train:    5    0.55410    0.62663    0.72191    1.01447    1.46227\n",
      "valid:    5    0.98047    0.87566    0.90454    1.10921    1.52057\n",
      "train:    6    0.51829    0.60060    0.70018    1.01171    1.46227\n",
      "valid:    6    0.99169    0.88615    0.90759    1.10849    1.52059\n",
      "train:    7    0.48525    0.57163    0.68143    1.00961    1.46227\n",
      "valid:    7    1.03303    0.89706    0.90440    1.10776    1.52059\n",
      "train:    8    0.45615    0.54816    0.66438    1.00952    1.46227\n",
      "valid:    8    1.07555    0.91253    0.90730    1.10772    1.52056\n",
      "train:    9    0.42780    0.52463    0.64819    1.00948    1.46227\n",
      "valid:    9    1.11756    0.92213    0.90745    1.10772    1.52058\n"
     ]
    }
   ],
   "source": [
    "print \" \" * (len(\"\\rtrain: {:>4}\".format(0)) - 1),\n",
    "for C in C_range:\n",
    "    print \"{:>10}\".format(C),\n",
    "print\n",
    "\n",
    "for feature_i, n_features in enumerate(features_range):\n",
    "    weights = dict()\n",
    "    weights[\"users\"] = np.random.normal(loc=0.0, scale=0.01, size=(n_users, n_features))\n",
    "    weights[\"items\"] = np.random.normal(loc=0.0, scale=0.01, size=(n_items, n_features))\n",
    "    \n",
    "    bias = dict()\n",
    "    bias[\"users\"] = np.random.normal(loc=0.0, scale=0.01, size=(n_users, ))\n",
    "    bias[\"items\"] = np.random.normal(loc=0.0, scale=0.01, size=(n_items, ))\n",
    "    \n",
    "    weights_, bias_ = copy(weights), copy(bias)\n",
    "    scores = []\n",
    "    \n",
    "    for C_i, C in enumerate(C_range):\n",
    "        weights = copy(weights_)\n",
    "        bias = copy(bias_)\n",
    "        \n",
    "        for i in range(20):\n",
    "            weigths, bias = iter_step(weights, bias, df_grouped, C)\n",
    "            \n",
    "        matrix = bias[\"users\"].reshape(-1, 1) + bias[\"items\"].reshape(1, -1) \\\n",
    "            + np.dot(weights[\"users\"], weights[\"items\"].T)\n",
    "        scores.append(\n",
    "            (score(matrix, df_train.values),\n",
    "             score(matrix, df_valid.values))\n",
    "        )\n",
    "        \n",
    "        print \"\\r{} of {} iters passed...\".format(C_i + 1, len(C_range)),\n",
    "        \n",
    "    print \"\\rtrain: {:>4}\".format(n_features),\n",
    "    for scr in map(operator.itemgetter(0), scores):\n",
    "        print \"{:>10.5f}\".format(scr),\n",
    "    print\n",
    "    \n",
    "    print \"\\rvalid: {:>4}\".format(n_features),\n",
    "    for scr in map(operator.itemgetter(1), scores):\n",
    "        print \"{:>10.5f}\".format(scr),\n",
    "    print\n",
    "    "
   ]
  },
  {
   "cell_type": "code",
   "execution_count": null,
   "metadata": {
    "collapsed": true
   },
   "outputs": [],
   "source": []
  }
 ],
 "metadata": {
  "kernelspec": {
   "display_name": "Python 2",
   "language": "python",
   "name": "python2"
  },
  "language_info": {
   "codemirror_mode": {
    "name": "ipython",
    "version": 2
   },
   "file_extension": ".py",
   "mimetype": "text/x-python",
   "name": "python",
   "nbconvert_exporter": "python",
   "pygments_lexer": "ipython2",
   "version": "2.7.12"
  }
 },
 "nbformat": 4,
 "nbformat_minor": 0
}
